{
  "nbformat": 4,
  "nbformat_minor": 0,
  "metadata": {
    "colab": {
      "provenance": [],
      "authorship_tag": "ABX9TyPSO35HxPx0GZfDFu3WLNUD",
      "include_colab_link": true
    },
    "kernelspec": {
      "name": "python3",
      "display_name": "Python 3"
    },
    "language_info": {
      "name": "python"
    }
  },
  "cells": [
    {
      "cell_type": "markdown",
      "metadata": {
        "id": "view-in-github",
        "colab_type": "text"
      },
      "source": [
        "<a href=\"https://colab.research.google.com/github/widyaarahma/project-churn/blob/main/Churn_Prediction.ipynb\" target=\"_parent\"><img src=\"https://colab.research.google.com/assets/colab-badge.svg\" alt=\"Open In Colab\"/></a>"
      ]
    },
    {
      "cell_type": "markdown",
      "source": [
        " # **Churn Prediction**\n",
        "\n",
        " Made by Widya Rahma\n",
        " Code Reference: https://github.com/srees1988/predict-churn-py"
      ],
      "metadata": {
        "id": "aQ_Be0mqfeGE"
      }
    },
    {
      "cell_type": "markdown",
      "source": [
        "## **Introduction**\n",
        "\n",
        "\n",
        "Dalam machine learning dan statistik, **classification** / klasifikasi adalah bentuk pendekatan supervised learning untuk memprediksi **label** dari suatu data dengan tipe **kategorikal**.\n",
        "\n",
        "**Contoh prediksi:**  \n",
        "- Spam/no spam?  \n",
        "- Loan default/no default?  \n",
        "- Customer churn/non churn?  \n",
        "\n",
        "- Yes/no?  \n",
        "- 1/0?  (Positive/Negative?)\n",
        "\n",
        "### **1. Classification using Logistic Regression**\n",
        "\n",
        "Tujuan dari logistik regression adalah dengan menggunakan model regresi linier untuk memprediksi probability(yang dapat digunakan untuk klasifikasi).\n",
        "\n",
        "### **2. Classification using Naive Bayes**\n",
        "\n",
        "Naive Bayes didasari oleh **Bayes Theorem** (peluang dependent event) yang sering digunakan pada kehidupan sehari-hari.\n",
        "\n",
        "**Karakteristik Naive Bayes**:\n",
        "  + Hubungan prediktor dengan target saling dependen (berhubungan)\n",
        "  + Hubungan antar prediktor saling independen (tidak berhubungan)\n",
        "  + Tiap prediktor memiliki bobot yang sama untuk menghasilkan prediksi:\n",
        "  - kata \"pinjaman\" dan \"pergi\" memiliki bobot yg sama untuk memprediksi spam\n",
        "    \n",
        "**Kelebihan**: \n",
        "  + waktu training cepat\n",
        "  + sering dijadikan *base classifier* (acuan) untuk pembanding model yang lebih kompleks\n",
        "  + jumlah prediktor bisa banyak -> text mining/analisis text\n",
        "  \n",
        "**Kekurangan**: \n",
        "  + **skewness due to data scarcity**: sangat terpengaruh oleh data yang sedikit\n",
        "  - adanya *prediktor yang frekuensinya 0 untuk salah satu kelas*, maka model otomatis memprediksi peluang 0 untuk kondisi tersebut, tanpa memperdulikan prediktor yang lainnya.\n",
        "\n",
        "### **3. Classification using Decision Tree**\n",
        "\n",
        "Decision Tree adalah model yang terbilang cukup sederhana, namun performanya *robust/powerfull* dan hasilnya *dapat diinterpretasi* dengan mudah. Model decision tree merupakan dasar dari *tree-based model* lainnya seperti Random Forest yang terkenal robust untuk menghasilkan prediksi.\n",
        "\n",
        "Decision tree akan menghasilkan **pohon keputusan** berdasarkan pola yang terdapat pada data. Hasilnya divisualisasikan dalam Flow Chart sehingga dapat dipahami dengan mudah bagaimana model tersebut melakukan prediksi.\n",
        "\n",
        "**Kelebihan**:\n",
        "\n",
        "+ interpretable\n",
        "+ robust: performa bagus\n",
        "\n",
        "**Karakter tambahan decision tree**:\n",
        "\n",
        "* Mengasumsikan antar variabel prediktor saling dependen\n",
        "* Decision tree dapat mengatasi multicollinearity\n",
        "* Decision tree dapat mengatasi outlier\n",
        "\n",
        "## **4. Classification using Random Forest**\n",
        "Random Forest melakukan prediksi dengan membuat **banyak decision tree (default 500)**. Masing-masing decision tree berbeda, melakukan prediksi, kemudian hasil prediksi nya digabungkan melalui majority voting. Kelas dengan jumlah terbanyak akan menjadi hasil prediksi final. \n",
        "\n",
        "**Kelebihan Random Forest**:\n",
        "\n",
        "* Robust: perfroma model bagus\n",
        "* Automatic Feature Selection: pemilihan prediktor secara otomatis (random) oleh model\n",
        "* Out-of-Bag error untuk pengganti evaluasi model ke unseen data\n",
        "\n",
        "**Kekurangan**:\n",
        "\n",
        "* Pembuatan model lama dan komputasinya berat\n",
        "* agak sulit diinterpretasikan\n",
        "\n",
        "## **5. Classification using SVM**\n",
        "Algoritma SVM ini sangat baik untuk klasifikasi dan regresi. Tapi umumnya, mereka digunakan dalam masalah klasifikasi\n",
        "\n",
        "**Kelebihan**\n",
        "\n",
        "* akurasi tinggi\n",
        "* bekerja dengan baik dengan ruang dimensi tinggi\n",
        "* menggunakan memori yang sangat sedikit.\n",
        "\n",
        "**Kekurangan**\n",
        "\n",
        "* waktu pelatihan yang tinggi sehingga dalam praktiknya tidak cocok untuk kumpulan data yang besar\n",
        "* tidak berfungsi dengan baik dengan kelas yang tumpang tindih\n",
        "\n",
        "## **6. Classification using KNN**\n",
        "k-NN adalah K-nearest neighboor. Metode ini akan mengkasifikasi data baru dengan membandingkan karakteristik data baru (data test) dengan data yang ada (data train). Kedekatan karakteristik tersebut diukur dengan Euclidean Distance. Kemudian akan dipilih k tetangga terdekat dari data baru tersebut, kemudian ditentukan kelasnya menggunakan majority voting.\n",
        "\n",
        "**Kelebihan:**\n",
        "\n",
        "* Sangat sederhana\n",
        "\n",
        "* accuracy cukup baik\n",
        "\n",
        "* Mengurangi efek outlier (karena adanya scaling)\n",
        "\n",
        "* Dapat diaplikasikan untuk target variabel yang lebih dua\n",
        "\n",
        "**Kekurangan:**\n",
        "\n",
        "* KNN tidak membuat model\n",
        "\n",
        "* tidak menampilkan peluang \n",
        "\n",
        "* tidak bisa diinterpretasi\n",
        "\n",
        "* hanya bagus untuk data yang numerik\n",
        "\n",
        "* komputasinya lambat\n",
        "\n",
        "**How to improve KNN result?**\n",
        "\n",
        "* mengganti nilai K\n",
        "\n",
        "* Menambah jumlah observasi\n",
        "\n",
        "## **7. SVC**\n",
        "SVC (Support Vector Classification) adalah metode klasifikasi yang digunakan untuk membuat model klasifikasi dengan menemukan garis atau hyperplane yang memisahkan dua kelas. Metode ini mencari garis atau hyperplane yang memiliki jarak terjauh dari setiap titik data dari kedua kelas.\n",
        "\n",
        "Keuntungan dari menggunakan SVC adalah:\n",
        "\n",
        "* Dapat digunakan untuk klasifikasi data non-linier\n",
        "* Dapat digunakan untuk klasifikasi data dengan jumlah fitur yang besar\n",
        "* Dapat menangani data yang tidak balance dengan menggunakan parameter C yang dapat dikontrol\n",
        "\n",
        "Kerugian dari menggunakan SVC adalah:\n",
        "\n",
        "* Proses training model cukup sulit karena harus mencari hyperplane yang optimal\n",
        "* Performa model cenderung buruk untuk dataset yang besar\n",
        "* Konsumsi memori cukup besar untuk dataset yang besar\n",
        "\n",
        "\n",
        "### **ROC and AUC**\n",
        "\n",
        "Akurasi memiliki kekurangan untuk memperlihatkan kebaikan model dalam mengklasifikasikan kedua kelas. Mengatasi kekurangan tersebut, hadir **ROC** dan **AUC** sebagai tools evaluasi selain Confusion Matrix. \n",
        "\n",
        "**Receiver-Operating Curve (ROC)**\n",
        ": adalah kurva yang memplotkan hubungan antara True Positive Rate (Sensitivity atau Recall) dengan False Positive Rate (1-Specificity). Model yang baik idealnya memiliki **TP tinggi** dan **FP rendah**\n",
        "\n",
        "**Area Under ROC Curve (AUC)** \n",
        "adalah luas area di bawah kurva ROC (rentang 0-1). Diinginkan AUC yang **semakin mendekati 1**. \n",
        "\n",
        "Notes:\n",
        " * diinginkan ROC L terbalik dimana sudut tengah di kiri atas, tidak ingin garis diagonal\n",
        " * diinginkan AUC yang mendekati 1, tidak ingin yang mendekati 0.5 (mendekati garis diagonal)\n",
        "\n",
        "### **Classification Workflow**\n",
        "\n",
        "1. EDA\n",
        "2. Cross Validation\n",
        "3. Data Pre-Processing\n",
        "4. Build Model\n",
        "5. Evaluation\n",
        "6. Model Tuning\n",
        "7. Final Model"
      ],
      "metadata": {
        "id": "IJldbnz2l8gy"
      }
    },
    {
      "cell_type": "markdown",
      "source": [
        "### **1. Exploratory Data Analysis (EDA) for Churn Prediction**"
      ],
      "metadata": {
        "id": "UmfdpN1i1CMD"
      }
    },
    {
      "cell_type": "markdown",
      "source": [
        "Exploratory Data Analysis (EDA) adalah suatu proses untuk melakukan eksplorasi lebih jauh terhadap data, seperti melihat struktur data dan sebaran data. Hal ini dapat membantu menentukan apakah teknik statistik yang Anda pertimbangkan untuk analisis data sudah sesuai.\n",
        "\n",
        "Tujuan utama EDA adalah untuk membantu melihat data sebelum membuat asumsi apa pun.\n",
        "\n",
        "- Mengidentifikasi dan memahami pola dalam data\n",
        "- Mendeteksi adanya kejadian anomali\n",
        "- Menemukan hubungan yang menarik antara variabel\n",
        "\n",
        "Seorang data analyst dan data scientist dapat menggunakan analisis eksplorasi untuk:\n",
        "\n",
        "- Memastikan hasil valid dan berlaku untuk tujuan bisnis yang diinginkan\n",
        "- Membantu pemangku kepentingan mengambil keputusan yang tepat\n",
        "- Melanjutkan ke tahapan analisis yang lebih dalam, misalnya untuk pemodelan machine learning (predictive)"
      ],
      "metadata": {
        "id": "BieBOe9W1n4F"
      }
    },
    {
      "cell_type": "markdown",
      "source": [
        "**Load data and Library**"
      ],
      "metadata": {
        "id": "82UIf9c-2l_g"
      }
    },
    {
      "cell_type": "code",
      "source": [
        "#Menghubungkan colab dengan folder kerja pada drive\n",
        "from google.colab import drive\n",
        "drive.mount('/content/drive')"
      ],
      "metadata": {
        "colab": {
          "base_uri": "https://localhost:8080/"
        },
        "id": "bVEDoGXiXTIc",
        "outputId": "e1a76aab-01f2-4be3-b78b-21a54cb17373"
      },
      "execution_count": 51,
      "outputs": [
        {
          "output_type": "stream",
          "name": "stdout",
          "text": [
            "Drive already mounted at /content/drive; to attempt to forcibly remount, call drive.mount(\"/content/drive\", force_remount=True).\n"
          ]
        }
      ]
    },
    {
      "cell_type": "code",
      "source": [
        "#Melakukan instalasi library dan modul\n",
        "! pip install keras\n",
        "! pip install sciPy\n",
        "! pip install numpy\n",
        "! pip install joblib\n",
        "import pandas\n",
        "from keras.models import Sequential\n",
        "from keras.layers import Dense\n",
        "from keras.wrappers.scikit_learn import KerasClassifier\n",
        "from keras.utils import np_utils\n",
        "from sklearn.model_selection import cross_val_score\n",
        "from sklearn.model_selection import KFold\n",
        "from sklearn.preprocessing import LabelEncoder\n",
        "from sklearn.pipeline import Pipeline\n",
        "from sklearn.model_selection import train_test_split\n",
        "from sklearn.linear_model import LogisticRegression\n",
        "from sklearn.metrics import accuracy_score, confusion_matrix\n",
        "import pandas as pd\n",
        "import matplotlib.pyplot as plt\n",
        "import numpy as np\n",
        "import seaborn as sns\n",
        "import statsmodels.api"
      ],
      "metadata": {
        "id": "Q-uPkDOaXdid",
        "colab": {
          "base_uri": "https://localhost:8080/"
        },
        "outputId": "6562dce1-2a6b-4aeb-8fb4-b387b572cbc3"
      },
      "execution_count": 105,
      "outputs": [
        {
          "output_type": "stream",
          "name": "stdout",
          "text": [
            "Looking in indexes: https://pypi.org/simple, https://us-python.pkg.dev/colab-wheels/public/simple/\n",
            "Requirement already satisfied: keras in /usr/local/lib/python3.8/dist-packages (2.9.0)\n",
            "Looking in indexes: https://pypi.org/simple, https://us-python.pkg.dev/colab-wheels/public/simple/\n",
            "Requirement already satisfied: sciPy in /usr/local/lib/python3.8/dist-packages (1.7.3)\n",
            "Requirement already satisfied: numpy<1.23.0,>=1.16.5 in /usr/local/lib/python3.8/dist-packages (from sciPy) (1.21.6)\n",
            "Looking in indexes: https://pypi.org/simple, https://us-python.pkg.dev/colab-wheels/public/simple/\n",
            "Requirement already satisfied: numpy in /usr/local/lib/python3.8/dist-packages (1.21.6)\n",
            "Looking in indexes: https://pypi.org/simple, https://us-python.pkg.dev/colab-wheels/public/simple/\n",
            "Requirement already satisfied: joblib in /usr/local/lib/python3.8/dist-packages (1.2.0)\n"
          ]
        }
      ]
    },
    {
      "cell_type": "markdown",
      "source": [
        "🔻 Data Churn terletak di dalam folder `Churn PredictionArithmeticError` dengan nama **`WA_Fn-UseC_-Telco-Customer-Churn.csv`**. \n",
        "File dibaca dengan bantuan library `pandas`."
      ],
      "metadata": {
        "id": "hZT1wbhY3Cbt"
      }
    },
    {
      "cell_type": "code",
      "source": [
        "churn_data = pd.read_csv(\"/content/drive/MyDrive/Churn Prediction/WA_Fn-UseC_-Telco-Customer-Churn.csv\")\n",
        "churn_data.head()"
      ],
      "metadata": {
        "colab": {
          "base_uri": "https://localhost:8080/",
          "height": 386
        },
        "id": "ERpn0snXXkEQ",
        "outputId": "f3c91169-9c7e-4fc8-8592-2126ebd3b037"
      },
      "execution_count": 53,
      "outputs": [
        {
          "output_type": "execute_result",
          "data": {
            "text/plain": [
              "   customerID  gender  SeniorCitizen Partner Dependents  tenure PhoneService  \\\n",
              "0  7590-VHVEG  Female              0     Yes         No       1           No   \n",
              "1  5575-GNVDE    Male              0      No         No      34          Yes   \n",
              "2  3668-QPYBK    Male              0      No         No       2          Yes   \n",
              "3  7795-CFOCW    Male              0      No         No      45           No   \n",
              "4  9237-HQITU  Female              0      No         No       2          Yes   \n",
              "\n",
              "      MultipleLines InternetService OnlineSecurity  ... DeviceProtection  \\\n",
              "0  No phone service             DSL             No  ...               No   \n",
              "1                No             DSL            Yes  ...              Yes   \n",
              "2                No             DSL            Yes  ...               No   \n",
              "3  No phone service             DSL            Yes  ...              Yes   \n",
              "4                No     Fiber optic             No  ...               No   \n",
              "\n",
              "  TechSupport StreamingTV StreamingMovies        Contract PaperlessBilling  \\\n",
              "0          No          No              No  Month-to-month              Yes   \n",
              "1          No          No              No        One year               No   \n",
              "2          No          No              No  Month-to-month              Yes   \n",
              "3         Yes          No              No        One year               No   \n",
              "4          No          No              No  Month-to-month              Yes   \n",
              "\n",
              "               PaymentMethod MonthlyCharges  TotalCharges Churn  \n",
              "0           Electronic check          29.85         29.85    No  \n",
              "1               Mailed check          56.95        1889.5    No  \n",
              "2               Mailed check          53.85        108.15   Yes  \n",
              "3  Bank transfer (automatic)          42.30       1840.75    No  \n",
              "4           Electronic check          70.70        151.65   Yes  \n",
              "\n",
              "[5 rows x 21 columns]"
            ],
            "text/html": [
              "\n",
              "  <div id=\"df-a143cc35-8452-4503-b530-24e2a7c2cec2\">\n",
              "    <div class=\"colab-df-container\">\n",
              "      <div>\n",
              "<style scoped>\n",
              "    .dataframe tbody tr th:only-of-type {\n",
              "        vertical-align: middle;\n",
              "    }\n",
              "\n",
              "    .dataframe tbody tr th {\n",
              "        vertical-align: top;\n",
              "    }\n",
              "\n",
              "    .dataframe thead th {\n",
              "        text-align: right;\n",
              "    }\n",
              "</style>\n",
              "<table border=\"1\" class=\"dataframe\">\n",
              "  <thead>\n",
              "    <tr style=\"text-align: right;\">\n",
              "      <th></th>\n",
              "      <th>customerID</th>\n",
              "      <th>gender</th>\n",
              "      <th>SeniorCitizen</th>\n",
              "      <th>Partner</th>\n",
              "      <th>Dependents</th>\n",
              "      <th>tenure</th>\n",
              "      <th>PhoneService</th>\n",
              "      <th>MultipleLines</th>\n",
              "      <th>InternetService</th>\n",
              "      <th>OnlineSecurity</th>\n",
              "      <th>...</th>\n",
              "      <th>DeviceProtection</th>\n",
              "      <th>TechSupport</th>\n",
              "      <th>StreamingTV</th>\n",
              "      <th>StreamingMovies</th>\n",
              "      <th>Contract</th>\n",
              "      <th>PaperlessBilling</th>\n",
              "      <th>PaymentMethod</th>\n",
              "      <th>MonthlyCharges</th>\n",
              "      <th>TotalCharges</th>\n",
              "      <th>Churn</th>\n",
              "    </tr>\n",
              "  </thead>\n",
              "  <tbody>\n",
              "    <tr>\n",
              "      <th>0</th>\n",
              "      <td>7590-VHVEG</td>\n",
              "      <td>Female</td>\n",
              "      <td>0</td>\n",
              "      <td>Yes</td>\n",
              "      <td>No</td>\n",
              "      <td>1</td>\n",
              "      <td>No</td>\n",
              "      <td>No phone service</td>\n",
              "      <td>DSL</td>\n",
              "      <td>No</td>\n",
              "      <td>...</td>\n",
              "      <td>No</td>\n",
              "      <td>No</td>\n",
              "      <td>No</td>\n",
              "      <td>No</td>\n",
              "      <td>Month-to-month</td>\n",
              "      <td>Yes</td>\n",
              "      <td>Electronic check</td>\n",
              "      <td>29.85</td>\n",
              "      <td>29.85</td>\n",
              "      <td>No</td>\n",
              "    </tr>\n",
              "    <tr>\n",
              "      <th>1</th>\n",
              "      <td>5575-GNVDE</td>\n",
              "      <td>Male</td>\n",
              "      <td>0</td>\n",
              "      <td>No</td>\n",
              "      <td>No</td>\n",
              "      <td>34</td>\n",
              "      <td>Yes</td>\n",
              "      <td>No</td>\n",
              "      <td>DSL</td>\n",
              "      <td>Yes</td>\n",
              "      <td>...</td>\n",
              "      <td>Yes</td>\n",
              "      <td>No</td>\n",
              "      <td>No</td>\n",
              "      <td>No</td>\n",
              "      <td>One year</td>\n",
              "      <td>No</td>\n",
              "      <td>Mailed check</td>\n",
              "      <td>56.95</td>\n",
              "      <td>1889.5</td>\n",
              "      <td>No</td>\n",
              "    </tr>\n",
              "    <tr>\n",
              "      <th>2</th>\n",
              "      <td>3668-QPYBK</td>\n",
              "      <td>Male</td>\n",
              "      <td>0</td>\n",
              "      <td>No</td>\n",
              "      <td>No</td>\n",
              "      <td>2</td>\n",
              "      <td>Yes</td>\n",
              "      <td>No</td>\n",
              "      <td>DSL</td>\n",
              "      <td>Yes</td>\n",
              "      <td>...</td>\n",
              "      <td>No</td>\n",
              "      <td>No</td>\n",
              "      <td>No</td>\n",
              "      <td>No</td>\n",
              "      <td>Month-to-month</td>\n",
              "      <td>Yes</td>\n",
              "      <td>Mailed check</td>\n",
              "      <td>53.85</td>\n",
              "      <td>108.15</td>\n",
              "      <td>Yes</td>\n",
              "    </tr>\n",
              "    <tr>\n",
              "      <th>3</th>\n",
              "      <td>7795-CFOCW</td>\n",
              "      <td>Male</td>\n",
              "      <td>0</td>\n",
              "      <td>No</td>\n",
              "      <td>No</td>\n",
              "      <td>45</td>\n",
              "      <td>No</td>\n",
              "      <td>No phone service</td>\n",
              "      <td>DSL</td>\n",
              "      <td>Yes</td>\n",
              "      <td>...</td>\n",
              "      <td>Yes</td>\n",
              "      <td>Yes</td>\n",
              "      <td>No</td>\n",
              "      <td>No</td>\n",
              "      <td>One year</td>\n",
              "      <td>No</td>\n",
              "      <td>Bank transfer (automatic)</td>\n",
              "      <td>42.30</td>\n",
              "      <td>1840.75</td>\n",
              "      <td>No</td>\n",
              "    </tr>\n",
              "    <tr>\n",
              "      <th>4</th>\n",
              "      <td>9237-HQITU</td>\n",
              "      <td>Female</td>\n",
              "      <td>0</td>\n",
              "      <td>No</td>\n",
              "      <td>No</td>\n",
              "      <td>2</td>\n",
              "      <td>Yes</td>\n",
              "      <td>No</td>\n",
              "      <td>Fiber optic</td>\n",
              "      <td>No</td>\n",
              "      <td>...</td>\n",
              "      <td>No</td>\n",
              "      <td>No</td>\n",
              "      <td>No</td>\n",
              "      <td>No</td>\n",
              "      <td>Month-to-month</td>\n",
              "      <td>Yes</td>\n",
              "      <td>Electronic check</td>\n",
              "      <td>70.70</td>\n",
              "      <td>151.65</td>\n",
              "      <td>Yes</td>\n",
              "    </tr>\n",
              "  </tbody>\n",
              "</table>\n",
              "<p>5 rows × 21 columns</p>\n",
              "</div>\n",
              "      <button class=\"colab-df-convert\" onclick=\"convertToInteractive('df-a143cc35-8452-4503-b530-24e2a7c2cec2')\"\n",
              "              title=\"Convert this dataframe to an interactive table.\"\n",
              "              style=\"display:none;\">\n",
              "        \n",
              "  <svg xmlns=\"http://www.w3.org/2000/svg\" height=\"24px\"viewBox=\"0 0 24 24\"\n",
              "       width=\"24px\">\n",
              "    <path d=\"M0 0h24v24H0V0z\" fill=\"none\"/>\n",
              "    <path d=\"M18.56 5.44l.94 2.06.94-2.06 2.06-.94-2.06-.94-.94-2.06-.94 2.06-2.06.94zm-11 1L8.5 8.5l.94-2.06 2.06-.94-2.06-.94L8.5 2.5l-.94 2.06-2.06.94zm10 10l.94 2.06.94-2.06 2.06-.94-2.06-.94-.94-2.06-.94 2.06-2.06.94z\"/><path d=\"M17.41 7.96l-1.37-1.37c-.4-.4-.92-.59-1.43-.59-.52 0-1.04.2-1.43.59L10.3 9.45l-7.72 7.72c-.78.78-.78 2.05 0 2.83L4 21.41c.39.39.9.59 1.41.59.51 0 1.02-.2 1.41-.59l7.78-7.78 2.81-2.81c.8-.78.8-2.07 0-2.86zM5.41 20L4 18.59l7.72-7.72 1.47 1.35L5.41 20z\"/>\n",
              "  </svg>\n",
              "      </button>\n",
              "      \n",
              "  <style>\n",
              "    .colab-df-container {\n",
              "      display:flex;\n",
              "      flex-wrap:wrap;\n",
              "      gap: 12px;\n",
              "    }\n",
              "\n",
              "    .colab-df-convert {\n",
              "      background-color: #E8F0FE;\n",
              "      border: none;\n",
              "      border-radius: 50%;\n",
              "      cursor: pointer;\n",
              "      display: none;\n",
              "      fill: #1967D2;\n",
              "      height: 32px;\n",
              "      padding: 0 0 0 0;\n",
              "      width: 32px;\n",
              "    }\n",
              "\n",
              "    .colab-df-convert:hover {\n",
              "      background-color: #E2EBFA;\n",
              "      box-shadow: 0px 1px 2px rgba(60, 64, 67, 0.3), 0px 1px 3px 1px rgba(60, 64, 67, 0.15);\n",
              "      fill: #174EA6;\n",
              "    }\n",
              "\n",
              "    [theme=dark] .colab-df-convert {\n",
              "      background-color: #3B4455;\n",
              "      fill: #D2E3FC;\n",
              "    }\n",
              "\n",
              "    [theme=dark] .colab-df-convert:hover {\n",
              "      background-color: #434B5C;\n",
              "      box-shadow: 0px 1px 3px 1px rgba(0, 0, 0, 0.15);\n",
              "      filter: drop-shadow(0px 1px 2px rgba(0, 0, 0, 0.3));\n",
              "      fill: #FFFFFF;\n",
              "    }\n",
              "  </style>\n",
              "\n",
              "      <script>\n",
              "        const buttonEl =\n",
              "          document.querySelector('#df-a143cc35-8452-4503-b530-24e2a7c2cec2 button.colab-df-convert');\n",
              "        buttonEl.style.display =\n",
              "          google.colab.kernel.accessAllowed ? 'block' : 'none';\n",
              "\n",
              "        async function convertToInteractive(key) {\n",
              "          const element = document.querySelector('#df-a143cc35-8452-4503-b530-24e2a7c2cec2');\n",
              "          const dataTable =\n",
              "            await google.colab.kernel.invokeFunction('convertToInteractive',\n",
              "                                                     [key], {});\n",
              "          if (!dataTable) return;\n",
              "\n",
              "          const docLinkHtml = 'Like what you see? Visit the ' +\n",
              "            '<a target=\"_blank\" href=https://colab.research.google.com/notebooks/data_table.ipynb>data table notebook</a>'\n",
              "            + ' to learn more about interactive tables.';\n",
              "          element.innerHTML = '';\n",
              "          dataTable['output_type'] = 'display_data';\n",
              "          await google.colab.output.renderOutput(dataTable, element);\n",
              "          const docLink = document.createElement('div');\n",
              "          docLink.innerHTML = docLinkHtml;\n",
              "          element.appendChild(docLink);\n",
              "        }\n",
              "      </script>\n",
              "    </div>\n",
              "  </div>\n",
              "  "
            ]
          },
          "metadata": {},
          "execution_count": 53
        }
      ]
    },
    {
      "cell_type": "code",
      "source": [
        "#mengecek jumlah baris dan kolom pada dataframe\n",
        "churn_data.shape"
      ],
      "metadata": {
        "colab": {
          "base_uri": "https://localhost:8080/"
        },
        "id": "j5BZYlAxj5wL",
        "outputId": "c91e8097-df2c-4d59-ad78-961b5f609c4f"
      },
      "execution_count": 54,
      "outputs": [
        {
          "output_type": "execute_result",
          "data": {
            "text/plain": [
              "(7043, 21)"
            ]
          },
          "metadata": {},
          "execution_count": 54
        }
      ]
    },
    {
      "cell_type": "markdown",
      "source": [
        "**Data Description**\n",
        "\n",
        "melihat struktur data terhadap object DataFrame dengan menggunakan method \n",
        "* `.info()` dan `d.types` untuk mengetahui tipe data, \n",
        "* `.describe` untuk memberikan informasi statistika pada data\n"
      ],
      "metadata": {
        "id": "UeC8m-Pq3Zby"
      }
    },
    {
      "cell_type": "code",
      "source": [
        "churn_data.dtypes"
      ],
      "metadata": {
        "colab": {
          "base_uri": "https://localhost:8080/"
        },
        "id": "ZZXuOvMjYdxj",
        "outputId": "a3cfd605-efe9-4f79-9cdb-4ed17d850044"
      },
      "execution_count": 55,
      "outputs": [
        {
          "output_type": "execute_result",
          "data": {
            "text/plain": [
              "customerID           object\n",
              "gender               object\n",
              "SeniorCitizen         int64\n",
              "Partner              object\n",
              "Dependents           object\n",
              "tenure                int64\n",
              "PhoneService         object\n",
              "MultipleLines        object\n",
              "InternetService      object\n",
              "OnlineSecurity       object\n",
              "OnlineBackup         object\n",
              "DeviceProtection     object\n",
              "TechSupport          object\n",
              "StreamingTV          object\n",
              "StreamingMovies      object\n",
              "Contract             object\n",
              "PaperlessBilling     object\n",
              "PaymentMethod        object\n",
              "MonthlyCharges      float64\n",
              "TotalCharges         object\n",
              "Churn                object\n",
              "dtype: object"
            ]
          },
          "metadata": {},
          "execution_count": 55
        }
      ]
    },
    {
      "cell_type": "code",
      "source": [
        "churn_data.describe()"
      ],
      "metadata": {
        "colab": {
          "base_uri": "https://localhost:8080/",
          "height": 300
        },
        "id": "etGbVD7AcgHY",
        "outputId": "f11fbc2d-e300-4567-d545-c394b10179e8"
      },
      "execution_count": 56,
      "outputs": [
        {
          "output_type": "execute_result",
          "data": {
            "text/plain": [
              "       SeniorCitizen       tenure  MonthlyCharges\n",
              "count    7043.000000  7043.000000     7043.000000\n",
              "mean        0.162147    32.371149       64.761692\n",
              "std         0.368612    24.559481       30.090047\n",
              "min         0.000000     0.000000       18.250000\n",
              "25%         0.000000     9.000000       35.500000\n",
              "50%         0.000000    29.000000       70.350000\n",
              "75%         0.000000    55.000000       89.850000\n",
              "max         1.000000    72.000000      118.750000"
            ],
            "text/html": [
              "\n",
              "  <div id=\"df-0087a8de-3b1b-4432-a57d-4cabeea7d844\">\n",
              "    <div class=\"colab-df-container\">\n",
              "      <div>\n",
              "<style scoped>\n",
              "    .dataframe tbody tr th:only-of-type {\n",
              "        vertical-align: middle;\n",
              "    }\n",
              "\n",
              "    .dataframe tbody tr th {\n",
              "        vertical-align: top;\n",
              "    }\n",
              "\n",
              "    .dataframe thead th {\n",
              "        text-align: right;\n",
              "    }\n",
              "</style>\n",
              "<table border=\"1\" class=\"dataframe\">\n",
              "  <thead>\n",
              "    <tr style=\"text-align: right;\">\n",
              "      <th></th>\n",
              "      <th>SeniorCitizen</th>\n",
              "      <th>tenure</th>\n",
              "      <th>MonthlyCharges</th>\n",
              "    </tr>\n",
              "  </thead>\n",
              "  <tbody>\n",
              "    <tr>\n",
              "      <th>count</th>\n",
              "      <td>7043.000000</td>\n",
              "      <td>7043.000000</td>\n",
              "      <td>7043.000000</td>\n",
              "    </tr>\n",
              "    <tr>\n",
              "      <th>mean</th>\n",
              "      <td>0.162147</td>\n",
              "      <td>32.371149</td>\n",
              "      <td>64.761692</td>\n",
              "    </tr>\n",
              "    <tr>\n",
              "      <th>std</th>\n",
              "      <td>0.368612</td>\n",
              "      <td>24.559481</td>\n",
              "      <td>30.090047</td>\n",
              "    </tr>\n",
              "    <tr>\n",
              "      <th>min</th>\n",
              "      <td>0.000000</td>\n",
              "      <td>0.000000</td>\n",
              "      <td>18.250000</td>\n",
              "    </tr>\n",
              "    <tr>\n",
              "      <th>25%</th>\n",
              "      <td>0.000000</td>\n",
              "      <td>9.000000</td>\n",
              "      <td>35.500000</td>\n",
              "    </tr>\n",
              "    <tr>\n",
              "      <th>50%</th>\n",
              "      <td>0.000000</td>\n",
              "      <td>29.000000</td>\n",
              "      <td>70.350000</td>\n",
              "    </tr>\n",
              "    <tr>\n",
              "      <th>75%</th>\n",
              "      <td>0.000000</td>\n",
              "      <td>55.000000</td>\n",
              "      <td>89.850000</td>\n",
              "    </tr>\n",
              "    <tr>\n",
              "      <th>max</th>\n",
              "      <td>1.000000</td>\n",
              "      <td>72.000000</td>\n",
              "      <td>118.750000</td>\n",
              "    </tr>\n",
              "  </tbody>\n",
              "</table>\n",
              "</div>\n",
              "      <button class=\"colab-df-convert\" onclick=\"convertToInteractive('df-0087a8de-3b1b-4432-a57d-4cabeea7d844')\"\n",
              "              title=\"Convert this dataframe to an interactive table.\"\n",
              "              style=\"display:none;\">\n",
              "        \n",
              "  <svg xmlns=\"http://www.w3.org/2000/svg\" height=\"24px\"viewBox=\"0 0 24 24\"\n",
              "       width=\"24px\">\n",
              "    <path d=\"M0 0h24v24H0V0z\" fill=\"none\"/>\n",
              "    <path d=\"M18.56 5.44l.94 2.06.94-2.06 2.06-.94-2.06-.94-.94-2.06-.94 2.06-2.06.94zm-11 1L8.5 8.5l.94-2.06 2.06-.94-2.06-.94L8.5 2.5l-.94 2.06-2.06.94zm10 10l.94 2.06.94-2.06 2.06-.94-2.06-.94-.94-2.06-.94 2.06-2.06.94z\"/><path d=\"M17.41 7.96l-1.37-1.37c-.4-.4-.92-.59-1.43-.59-.52 0-1.04.2-1.43.59L10.3 9.45l-7.72 7.72c-.78.78-.78 2.05 0 2.83L4 21.41c.39.39.9.59 1.41.59.51 0 1.02-.2 1.41-.59l7.78-7.78 2.81-2.81c.8-.78.8-2.07 0-2.86zM5.41 20L4 18.59l7.72-7.72 1.47 1.35L5.41 20z\"/>\n",
              "  </svg>\n",
              "      </button>\n",
              "      \n",
              "  <style>\n",
              "    .colab-df-container {\n",
              "      display:flex;\n",
              "      flex-wrap:wrap;\n",
              "      gap: 12px;\n",
              "    }\n",
              "\n",
              "    .colab-df-convert {\n",
              "      background-color: #E8F0FE;\n",
              "      border: none;\n",
              "      border-radius: 50%;\n",
              "      cursor: pointer;\n",
              "      display: none;\n",
              "      fill: #1967D2;\n",
              "      height: 32px;\n",
              "      padding: 0 0 0 0;\n",
              "      width: 32px;\n",
              "    }\n",
              "\n",
              "    .colab-df-convert:hover {\n",
              "      background-color: #E2EBFA;\n",
              "      box-shadow: 0px 1px 2px rgba(60, 64, 67, 0.3), 0px 1px 3px 1px rgba(60, 64, 67, 0.15);\n",
              "      fill: #174EA6;\n",
              "    }\n",
              "\n",
              "    [theme=dark] .colab-df-convert {\n",
              "      background-color: #3B4455;\n",
              "      fill: #D2E3FC;\n",
              "    }\n",
              "\n",
              "    [theme=dark] .colab-df-convert:hover {\n",
              "      background-color: #434B5C;\n",
              "      box-shadow: 0px 1px 3px 1px rgba(0, 0, 0, 0.15);\n",
              "      filter: drop-shadow(0px 1px 2px rgba(0, 0, 0, 0.3));\n",
              "      fill: #FFFFFF;\n",
              "    }\n",
              "  </style>\n",
              "\n",
              "      <script>\n",
              "        const buttonEl =\n",
              "          document.querySelector('#df-0087a8de-3b1b-4432-a57d-4cabeea7d844 button.colab-df-convert');\n",
              "        buttonEl.style.display =\n",
              "          google.colab.kernel.accessAllowed ? 'block' : 'none';\n",
              "\n",
              "        async function convertToInteractive(key) {\n",
              "          const element = document.querySelector('#df-0087a8de-3b1b-4432-a57d-4cabeea7d844');\n",
              "          const dataTable =\n",
              "            await google.colab.kernel.invokeFunction('convertToInteractive',\n",
              "                                                     [key], {});\n",
              "          if (!dataTable) return;\n",
              "\n",
              "          const docLinkHtml = 'Like what you see? Visit the ' +\n",
              "            '<a target=\"_blank\" href=https://colab.research.google.com/notebooks/data_table.ipynb>data table notebook</a>'\n",
              "            + ' to learn more about interactive tables.';\n",
              "          element.innerHTML = '';\n",
              "          dataTable['output_type'] = 'display_data';\n",
              "          await google.colab.output.renderOutput(dataTable, element);\n",
              "          const docLink = document.createElement('div');\n",
              "          docLink.innerHTML = docLinkHtml;\n",
              "          element.appendChild(docLink);\n",
              "        }\n",
              "      </script>\n",
              "    </div>\n",
              "  </div>\n",
              "  "
            ]
          },
          "metadata": {},
          "execution_count": 56
        }
      ]
    },
    {
      "cell_type": "markdown",
      "source": [
        "🔻 Tahap selanjutnya adalah menyesuaikan tipe data untuk dapat melakukan proses analisis lanjutan yaitu mengubah kolom menjadi tipe kategori, Karakteristik tipe data `category` yaitu nilai yang berulang pada kolom, dengan kata lain jumlah uniknya cukup sedikit."
      ],
      "metadata": {
        "id": "koyaH8nQ5pWy"
      }
    },
    {
      "cell_type": "code",
      "source": [
        "churn_data[['gender','Partner','Dependents','PhoneService','OnlineSecurity','MultipleLines',\n",
        "            'InternetService','OnlineBackup','DeviceProtection',\n",
        "            'TechSupport','StreamingTV','StreamingMovies','Contract','PaperlessBilling',\n",
        "            'PaymentMethod','Churn']] = churn_data[['gender','Partner','Dependents','PhoneService','OnlineSecurity',\n",
        "            'MultipleLines','InternetService','OnlineBackup','DeviceProtection','TechSupport',\n",
        "            'StreamingTV','StreamingMovies','Contract','PaperlessBilling','PaymentMethod','Churn']].astype('category')"
      ],
      "metadata": {
        "id": "8hTr08feZAxL"
      },
      "execution_count": 57,
      "outputs": []
    },
    {
      "cell_type": "markdown",
      "source": [
        "🔻 Cek kembali tipe data yang sudah di ubah"
      ],
      "metadata": {
        "id": "tpO72JWJ6LK2"
      }
    },
    {
      "cell_type": "code",
      "source": [
        "churn_data.dtypes"
      ],
      "metadata": {
        "colab": {
          "base_uri": "https://localhost:8080/"
        },
        "id": "ZiY5f0hua85u",
        "outputId": "c2d434d8-7153-4d90-fc16-3cd58c5b9aee"
      },
      "execution_count": 58,
      "outputs": [
        {
          "output_type": "execute_result",
          "data": {
            "text/plain": [
              "customerID            object\n",
              "gender              category\n",
              "SeniorCitizen          int64\n",
              "Partner             category\n",
              "Dependents          category\n",
              "tenure                 int64\n",
              "PhoneService        category\n",
              "MultipleLines       category\n",
              "InternetService     category\n",
              "OnlineSecurity      category\n",
              "OnlineBackup        category\n",
              "DeviceProtection    category\n",
              "TechSupport         category\n",
              "StreamingTV         category\n",
              "StreamingMovies     category\n",
              "Contract            category\n",
              "PaperlessBilling    category\n",
              "PaymentMethod       category\n",
              "MonthlyCharges       float64\n",
              "TotalCharges          object\n",
              "Churn               category\n",
              "dtype: object"
            ]
          },
          "metadata": {},
          "execution_count": 58
        }
      ]
    },
    {
      "cell_type": "code",
      "source": [
        "#membuat list data kategorikal\n",
        "categorical_var = list(churn_data.dtypes.loc[churn_data.dtypes == 'category'].index)\n",
        "print(len(categorical_var))\n",
        "print(categorical_var)"
      ],
      "metadata": {
        "colab": {
          "base_uri": "https://localhost:8080/"
        },
        "id": "9iZ19Woeq3Rx",
        "outputId": "313b8db3-27d5-4810-8a17-1e57e7df5097"
      },
      "execution_count": 59,
      "outputs": [
        {
          "output_type": "stream",
          "name": "stdout",
          "text": [
            "16\n",
            "['gender', 'Partner', 'Dependents', 'PhoneService', 'MultipleLines', 'InternetService', 'OnlineSecurity', 'OnlineBackup', 'DeviceProtection', 'TechSupport', 'StreamingTV', 'StreamingMovies', 'Contract', 'PaperlessBilling', 'PaymentMethod', 'Churn']\n"
          ]
        }
      ]
    },
    {
      "cell_type": "code",
      "source": [
        "#Melakukan pelabelan pada data kategorikal yang memiliki nilai unik <= 2\n",
        "le = LabelEncoder()\n",
        "dataset = churn_data\n",
        "# Label Encoding will be used for columns with 2 or less unique values\n",
        "le_count = 0\n",
        "for col in churn_data.columns[1:]:\n",
        "    if dataset[col].dtype == 'category':\n",
        "        if len(list(dataset[col].unique())) <= 2:\n",
        "            le.fit(dataset[col])\n",
        "            dataset[col] = le.transform(dataset[col])\n",
        "            le_count += 1\n",
        "print('{} columns were label encoded.'.format(le_count))"
      ],
      "metadata": {
        "colab": {
          "base_uri": "https://localhost:8080/"
        },
        "id": "ZcFbwFDmiZOr",
        "outputId": "6cc049ba-b958-4828-b5c2-06224fc89142"
      },
      "execution_count": 60,
      "outputs": [
        {
          "output_type": "stream",
          "name": "stdout",
          "text": [
            "6 columns were label encoded.\n"
          ]
        }
      ]
    },
    {
      "cell_type": "code",
      "source": [
        "#mengubah TotalCharges ke tipe data numerik\n",
        "churn_data['TotalCharges'] = pd.to_numeric(churn_data['TotalCharges'], errors='coerce')"
      ],
      "metadata": {
        "id": "zfPF4y2FqNol"
      },
      "execution_count": 61,
      "outputs": []
    },
    {
      "cell_type": "code",
      "source": [
        "#menghitung nilai unik pada kolom churn\n",
        "churn_data['Churn'].value_counts()"
      ],
      "metadata": {
        "colab": {
          "base_uri": "https://localhost:8080/"
        },
        "id": "CGVt0p2Gc5v-",
        "outputId": "90205b01-d951-4dc3-e52c-74f0f1719253"
      },
      "execution_count": 62,
      "outputs": [
        {
          "output_type": "execute_result",
          "data": {
            "text/plain": [
              "0    5174\n",
              "1    1869\n",
              "Name: Churn, dtype: int64"
            ]
          },
          "metadata": {},
          "execution_count": 62
        }
      ]
    },
    {
      "cell_type": "code",
      "source": [
        "#memastikan kembali tipe data sudah sesuai\n",
        "churn_data.dtypes"
      ],
      "metadata": {
        "colab": {
          "base_uri": "https://localhost:8080/"
        },
        "id": "UEe1_QAzcGlm",
        "outputId": "fc62ff64-bb3f-4107-e2c9-cbd2524b400b"
      },
      "execution_count": 63,
      "outputs": [
        {
          "output_type": "execute_result",
          "data": {
            "text/plain": [
              "customerID            object\n",
              "gender                 int64\n",
              "SeniorCitizen          int64\n",
              "Partner                int64\n",
              "Dependents             int64\n",
              "tenure                 int64\n",
              "PhoneService           int64\n",
              "MultipleLines       category\n",
              "InternetService     category\n",
              "OnlineSecurity      category\n",
              "OnlineBackup        category\n",
              "DeviceProtection    category\n",
              "TechSupport         category\n",
              "StreamingTV         category\n",
              "StreamingMovies     category\n",
              "Contract            category\n",
              "PaperlessBilling       int64\n",
              "PaymentMethod       category\n",
              "MonthlyCharges       float64\n",
              "TotalCharges         float64\n",
              "Churn                  int64\n",
              "dtype: object"
            ]
          },
          "metadata": {},
          "execution_count": 63
        }
      ]
    },
    {
      "cell_type": "markdown",
      "source": [
        "Dalam melakukan pengolahan data, tidak semua data yang kita miliki adalah data yang \"tidy\". Ada kemungkinan bahwa data kita memiliki nilai yang hilang, memiliki nilai yang berulang, dan memiliki nilai yang tidak sesuai dengan nilai kolom yang seharusnya (misal usia memiliki nilai minus). Untuk mengatasi hal tersebut, kita dapat melakukan beberapa metode penanganan pada data yang hilang (missing value) atau data yang duplikat (duplicates value)"
      ],
      "metadata": {
        "id": "TL_h342T64PF"
      }
    },
    {
      "cell_type": "code",
      "source": [
        "#mengecek missing value\n",
        "churn_data.isna().sum()\n"
      ],
      "metadata": {
        "colab": {
          "base_uri": "https://localhost:8080/"
        },
        "id": "CMAW3TKijMWw",
        "outputId": "89d4c312-6c13-4cfd-d9fe-670a38fd51e8"
      },
      "execution_count": 64,
      "outputs": [
        {
          "output_type": "execute_result",
          "data": {
            "text/plain": [
              "customerID           0\n",
              "gender               0\n",
              "SeniorCitizen        0\n",
              "Partner              0\n",
              "Dependents           0\n",
              "tenure               0\n",
              "PhoneService         0\n",
              "MultipleLines        0\n",
              "InternetService      0\n",
              "OnlineSecurity       0\n",
              "OnlineBackup         0\n",
              "DeviceProtection     0\n",
              "TechSupport          0\n",
              "StreamingTV          0\n",
              "StreamingMovies      0\n",
              "Contract             0\n",
              "PaperlessBilling     0\n",
              "PaymentMethod        0\n",
              "MonthlyCharges       0\n",
              "TotalCharges        11\n",
              "Churn                0\n",
              "dtype: int64"
            ]
          },
          "metadata": {},
          "execution_count": 64
        }
      ]
    },
    {
      "cell_type": "code",
      "source": [
        "#Terdapat missing values pada kolom TotalCharges, kemudiian nilai tersebut diisi dengan metode ffill\n",
        "churn_data['TotalCharges'].fillna(method='ffill', inplace=True)"
      ],
      "metadata": {
        "id": "9rihhkaN36kw"
      },
      "execution_count": 65,
      "outputs": []
    },
    {
      "cell_type": "code",
      "source": [
        "#Tidak ada missing value pada kolom\n",
        "churn_data.isna().sum()"
      ],
      "metadata": {
        "colab": {
          "base_uri": "https://localhost:8080/"
        },
        "id": "J3LPBqVA4QRo",
        "outputId": "d7ee4c47-bbfd-4441-ff35-883f0d610ec2"
      },
      "execution_count": 66,
      "outputs": [
        {
          "output_type": "execute_result",
          "data": {
            "text/plain": [
              "customerID          0\n",
              "gender              0\n",
              "SeniorCitizen       0\n",
              "Partner             0\n",
              "Dependents          0\n",
              "tenure              0\n",
              "PhoneService        0\n",
              "MultipleLines       0\n",
              "InternetService     0\n",
              "OnlineSecurity      0\n",
              "OnlineBackup        0\n",
              "DeviceProtection    0\n",
              "TechSupport         0\n",
              "StreamingTV         0\n",
              "StreamingMovies     0\n",
              "Contract            0\n",
              "PaperlessBilling    0\n",
              "PaymentMethod       0\n",
              "MonthlyCharges      0\n",
              "TotalCharges        0\n",
              "Churn               0\n",
              "dtype: int64"
            ]
          },
          "metadata": {},
          "execution_count": 66
        }
      ]
    },
    {
      "cell_type": "markdown",
      "source": [
        "**Visualisasi Data Setiap Kolom**\n",
        "\n",
        "membuat objek plot `matplotlib` dengan hanya menggunakan method `.plot()`. \n",
        "\n",
        "Tujuan Visualisasi:\n",
        "- Exploratory: menganalisa dan mencari insight, menghasilkan plot yang **informatif dan akurat**\n",
        "- Explanatory: menjelaskan/mempresentasikan data yang menarik"
      ],
      "metadata": {
        "id": "F0XEBJOw8KtY"
      }
    },
    {
      "cell_type": "code",
      "source": [
        "#Melakukan visualisasi pada setiap kolom\n",
        "fig, ax =plt.subplots(6,3,figsize=(12,20))\n",
        "sns.countplot(churn_data['gender'], ax=ax[0][0])\n",
        "sns.countplot(churn_data['Partner'], ax=ax[0][1])\n",
        "sns.countplot(churn_data['Dependents'], ax=ax[0][2])\n",
        "\n",
        "sns.countplot(churn_data['PhoneService'], ax=ax[1][0])\n",
        "sns.countplot(churn_data['MultipleLines'], ax=ax[1][1])\n",
        "sns.countplot(churn_data['InternetService'], ax=ax[1][2])\n",
        "\n",
        "sns.countplot(churn_data['OnlineSecurity'], ax=ax[2][0])\n",
        "sns.countplot(churn_data['OnlineBackup'], ax=ax[2][1])\n",
        "sns.countplot(churn_data['DeviceProtection'], ax=ax[2][2])\n",
        "\n",
        "sns.countplot(churn_data['TechSupport'], ax=ax[3][0])\n",
        "sns.countplot(churn_data['StreamingTV'], ax=ax[3][1])\n",
        "sns.countplot(churn_data['StreamingMovies'], ax=ax[3][2])\n",
        "\n",
        "sns.countplot(churn_data['Contract'], ax=ax[4][0])\n",
        "sns.countplot(churn_data['PaperlessBilling'], ax=ax[4][1])\n",
        "sns.countplot(churn_data['PaymentMethod'], ax=ax[4][2])\n",
        "\n",
        "sns.countplot(churn_data['Churn'], ax=ax[5][0])\n",
        "\n",
        "fig.show()"
      ],
      "metadata": {
        "colab": {
          "base_uri": "https://localhost:8080/",
          "height": 1000
        },
        "id": "or3jsp5IkTBl",
        "outputId": "e49ff01f-a568-4fef-d703-d4af926499e6"
      },
      "execution_count": 67,
      "outputs": [
        {
          "output_type": "stream",
          "name": "stderr",
          "text": [
            "/usr/local/lib/python3.8/dist-packages/seaborn/_decorators.py:36: FutureWarning: Pass the following variable as a keyword arg: x. From version 0.12, the only valid positional argument will be `data`, and passing other arguments without an explicit keyword will result in an error or misinterpretation.\n",
            "  warnings.warn(\n",
            "/usr/local/lib/python3.8/dist-packages/seaborn/_decorators.py:36: FutureWarning: Pass the following variable as a keyword arg: x. From version 0.12, the only valid positional argument will be `data`, and passing other arguments without an explicit keyword will result in an error or misinterpretation.\n",
            "  warnings.warn(\n",
            "/usr/local/lib/python3.8/dist-packages/seaborn/_decorators.py:36: FutureWarning: Pass the following variable as a keyword arg: x. From version 0.12, the only valid positional argument will be `data`, and passing other arguments without an explicit keyword will result in an error or misinterpretation.\n",
            "  warnings.warn(\n",
            "/usr/local/lib/python3.8/dist-packages/seaborn/_decorators.py:36: FutureWarning: Pass the following variable as a keyword arg: x. From version 0.12, the only valid positional argument will be `data`, and passing other arguments without an explicit keyword will result in an error or misinterpretation.\n",
            "  warnings.warn(\n",
            "/usr/local/lib/python3.8/dist-packages/seaborn/_decorators.py:36: FutureWarning: Pass the following variable as a keyword arg: x. From version 0.12, the only valid positional argument will be `data`, and passing other arguments without an explicit keyword will result in an error or misinterpretation.\n",
            "  warnings.warn(\n",
            "/usr/local/lib/python3.8/dist-packages/seaborn/_decorators.py:36: FutureWarning: Pass the following variable as a keyword arg: x. From version 0.12, the only valid positional argument will be `data`, and passing other arguments without an explicit keyword will result in an error or misinterpretation.\n",
            "  warnings.warn(\n"
          ]
        },
        {
          "output_type": "display_data",
          "data": {
            "text/plain": [
              "<Figure size 864x1440 with 18 Axes>"
            ],
            "image/png": "[encoded data removed]"
          },
          "metadata": {
            "needs_background": "light"
          }
        }
      ]
    },
    {
      "cell_type": "code",
      "source": [
        "#Melakukan visualisasi terhadap data churn secara keseluruhan\n",
        "import matplotlib.ticker as mtick\n",
        "dataset = churn_data\n",
        "churn_rate = dataset[[\"Churn\", \"customerID\"]]\n",
        "churn_rate [\"churn_label\"] = pd.Series(np.where((churn_rate[\"Churn\"] == 0), \"No\", \"Yes\"))\n",
        "sectors = churn_rate .groupby (\"churn_label\")\n",
        "churn_rate = pd.DataFrame(sectors[\"customerID\"].count())\n",
        "churn_rate [\"Churn Rate\"] = (churn_rate [\"customerID\"] / sum(churn_rate [\"customerID\"]) )*100\n",
        "ax =  churn_rate[[\"Churn Rate\"]].plot.bar(title = 'Overall Churn Rate', legend =True, \n",
        "                                          table = False, grid = False,  subplots = False,  \n",
        "                                          figsize =(12, 7), color = 'blue', \n",
        "                                          fontsize = 15, \n",
        "                                          ylim =(0,100))\n",
        "\n",
        "plt.ylabel('Proportion of Customers')\n",
        "plt.xlabel('Churn')\n",
        "plt.title('Overall Churn Rate \\n')\n",
        "plt.legend(loc='top right', fontsize = \"medium\")\n",
        "plt.xticks(rotation=0, horizontalalignment=\"center\")\n",
        "plt.yticks(rotation=0, horizontalalignment=\"right\")\n",
        "ax.yaxis.set_major_formatter(mtick.PercentFormatter())\n",
        "x_labels = np.array(churn_rate[[\"customerID\"]])\n",
        "\n",
        "def add_value_labels(ax, spacing=5):   #Pengaturan pelabelan presentase pada grafik\n",
        "    for rect in ax.patches:     \n",
        "        y_value = rect.get_height()\n",
        "        x_value = rect.get_x() + rect.get_width() / 2       \n",
        "        space = spacing\n",
        "        va = 'bottom'        \n",
        "        if y_value < 0:           \n",
        "            space *= -1          \n",
        "            va = 'top'\n",
        "        \n",
        "        label = \"{:.1f}%\".format(y_value)    \n",
        "        ax.annotate(\n",
        "            label,                      \n",
        "            (x_value, y_value),        \n",
        "            xytext=(0, space),         \n",
        "            textcoords=\"offset points\", \n",
        "            ha='center',                \n",
        "            va=va)                                                            \n",
        "add_value_labels(ax)\n",
        "ax.autoscale(enable=False, axis='both', tight=False)  "
      ],
      "metadata": {
        "colab": {
          "base_uri": "https://localhost:8080/",
          "height": 825
        },
        "id": "byO1yXK6nIxB",
        "outputId": "1dd112bb-8cc5-4f96-d0f2-52df58eddaa5"
      },
      "execution_count": 68,
      "outputs": [
        {
          "output_type": "stream",
          "name": "stderr",
          "text": [
            "<ipython-input-68-9c82ff75ec3a>:5: SettingWithCopyWarning: \n",
            "A value is trying to be set on a copy of a slice from a DataFrame.\n",
            "Try using .loc[row_indexer,col_indexer] = value instead\n",
            "\n",
            "See the caveats in the documentation: https://pandas.pydata.org/pandas-docs/stable/user_guide/indexing.html#returning-a-view-versus-a-copy\n",
            "  churn_rate [\"churn_label\"] = pd.Series(np.where((churn_rate[\"Churn\"] == 0), \"No\", \"Yes\"))\n",
            "<ipython-input-68-9c82ff75ec3a>:18: MatplotlibDeprecationWarning: Unrecognized location 'top right'. Falling back on 'best'; valid locations are\n",
            "\tbest\n",
            "\tupper right\n",
            "\tupper left\n",
            "\tlower left\n",
            "\tlower right\n",
            "\tright\n",
            "\tcenter left\n",
            "\tcenter right\n",
            "\tlower center\n",
            "\tupper center\n",
            "\tcenter\n",
            "This will raise an exception in 3.3.\n",
            "  plt.legend(loc='top right', fontsize = \"medium\")\n"
          ]
        },
        {
          "output_type": "display_data",
          "data": {
            "text/plain": [
              "<Figure size 864x504 with 1 Axes>"
            ],
            "image/png": "[encoded data removed]"
          },
          "metadata": {
            "needs_background": "light"
          }
        }
      ]
    },
    {
      "cell_type": "markdown",
      "source": [
        "💡 Secara keseluruhan dari bar plot di atas, jumlah customer yang melakukan churn sebanyak 26.5%"
      ],
      "metadata": {
        "id": "zAWtTwXI9U07"
      }
    },
    {
      "cell_type": "code",
      "source": [
        "#Visualisasi churn berdasarkan tipe contract\n",
        "import matplotlib.ticker as mtick\n",
        "dataset = churn_data\n",
        "\n",
        "contract_churn = dataset.groupby(['Contract','Churn']).size().unstack()\n",
        "\n",
        "contract_churn.rename(columns={0:'No', 1:'Yes'}, inplace=True)\n",
        "\n",
        "colors  = ['red','yellow']\n",
        "\n",
        "ax = (contract_churn.T*100.0 / contract_churn.T.sum()).T.plot(kind='bar',\n",
        "                                                                width = 0.3,\n",
        "                                                                stacked = True,\n",
        "                                                                rot = 0, \n",
        "                                                                figsize = (12,7),\n",
        "                                                                color = colors)\n",
        "\n",
        "plt.ylabel('Proportion of Customers\\n',horizontalalignment=\"center\",fontstyle = \"normal\", fontsize = \"large\", fontfamily = \"sans-serif\")\n",
        "plt.xlabel('Contract Type\\n',horizontalalignment=\"center\",fontstyle = \"normal\", fontsize = \"large\", fontfamily = \"sans-serif\")\n",
        "plt.title('Churn Rate by Contract type \\n',horizontalalignment=\"center\", fontstyle = \"normal\", fontsize = \"22\", fontfamily = \"sans-serif\")\n",
        "plt.legend(loc='top right', fontsize = \"medium\")\n",
        "plt.xticks(rotation=0, horizontalalignment=\"center\")\n",
        "plt.yticks(rotation=0, horizontalalignment=\"right\")\n",
        "ax.yaxis.set_major_formatter(mtick.PercentFormatter())\n",
        "for p in ax.patches:\n",
        "    width, height = p.get_width(), p.get_height()\n",
        "    x, y = p.get_xy() \n",
        "    ax.text(x+width/2, \n",
        "            y+height/2, \n",
        "            '{:.1f}%'.format(height), \n",
        "            horizontalalignment='center', \n",
        "            verticalalignment='center')\n",
        "ax.autoscale(enable=False, axis='both', tight=False)   "
      ],
      "metadata": {
        "colab": {
          "base_uri": "https://localhost:8080/",
          "height": 749
        },
        "id": "YXx81ioXpKgP",
        "outputId": "e2390890-2d3e-4d87-9620-0be618db715a"
      },
      "execution_count": 69,
      "outputs": [
        {
          "output_type": "stream",
          "name": "stderr",
          "text": [
            "<ipython-input-69-3b9745fd96ed>:21: MatplotlibDeprecationWarning: Unrecognized location 'top right'. Falling back on 'best'; valid locations are\n",
            "\tbest\n",
            "\tupper right\n",
            "\tupper left\n",
            "\tlower left\n",
            "\tlower right\n",
            "\tright\n",
            "\tcenter left\n",
            "\tcenter right\n",
            "\tlower center\n",
            "\tupper center\n",
            "\tcenter\n",
            "This will raise an exception in 3.3.\n",
            "  plt.legend(loc='top right', fontsize = \"medium\")\n"
          ]
        },
        {
          "output_type": "display_data",
          "data": {
            "text/plain": [
              "<Figure size 864x504 with 1 Axes>"
            ],
            "image/png": "[encoded data removed]"
          },
          "metadata": {
            "needs_background": "light"
          }
        }
      ]
    },
    {
      "cell_type": "markdown",
      "source": [
        "💡 Berdasarkan tipe kontrak customer dengan month to month contract type lebih banyak melakukan churn dibandingkan contract type one year dan two year"
      ],
      "metadata": {
        "id": "3XZPQ0e_9y8J"
      }
    },
    {
      "cell_type": "code",
      "source": [
        "#Visualisasi churn berdasarkan Metode Pembayaran\n",
        "import matplotlib.ticker as mtick\n",
        "\n",
        "contract_churn = dataset.groupby(['Contract','PaymentMethod']).size().unstack()\n",
        "\n",
        "contract_churn.rename(columns={0:'No', 1:'Yes'}, inplace=True)\n",
        "\n",
        "colors  = ['pink','green', 'grey' , 'blue']\n",
        "\n",
        "ax = (contract_churn.T*100.0 / contract_churn.T.sum()).T.plot(kind='bar',\n",
        "                                                                width = 0.3,\n",
        "                                                                stacked = True,\n",
        "                                                                rot = 0, \n",
        "                                                                figsize = (12,7),\n",
        "                                                                color = colors)\n",
        "\n",
        "plt.ylabel('Proportion of Customers\\n',horizontalalignment=\"center\",fontstyle = \"normal\", fontsize = \"large\", fontfamily = \"sans-serif\")\n",
        "plt.xlabel('Contract Type\\n',horizontalalignment=\"center\",fontstyle = \"normal\", fontsize = \"large\", fontfamily = \"sans-serif\")\n",
        "plt.title('Churn Rate by Payment Method \\n',horizontalalignment=\"center\", fontstyle = \"normal\", fontsize = \"22\", fontfamily = \"sans-serif\")\n",
        "plt.legend(loc='top right', fontsize = \"medium\")\n",
        "plt.xticks(rotation=0, horizontalalignment=\"center\")\n",
        "plt.yticks(rotation=0, horizontalalignment=\"right\")\n",
        "ax.yaxis.set_major_formatter(mtick.PercentFormatter())\n",
        "for p in ax.patches:\n",
        "    width, height = p.get_width(), p.get_height()\n",
        "    x, y = p.get_xy() \n",
        "    ax.text(x+width/2, \n",
        "            y+height/2, \n",
        "            '{:.1f}%'.format(height), \n",
        "            horizontalalignment='center', \n",
        "            verticalalignment='center')\n",
        "ax.autoscale(enable=False, axis='both', tight=False) "
      ],
      "metadata": {
        "colab": {
          "base_uri": "https://localhost:8080/",
          "height": 749
        },
        "id": "cTorX9wdrCoe",
        "outputId": "bc2b7335-b519-4247-c1fd-c354961ddb07"
      },
      "execution_count": 70,
      "outputs": [
        {
          "output_type": "stream",
          "name": "stderr",
          "text": [
            "<ipython-input-70-df3c9cd1905b>:20: MatplotlibDeprecationWarning: Unrecognized location 'top right'. Falling back on 'best'; valid locations are\n",
            "\tbest\n",
            "\tupper right\n",
            "\tupper left\n",
            "\tlower left\n",
            "\tlower right\n",
            "\tright\n",
            "\tcenter left\n",
            "\tcenter right\n",
            "\tlower center\n",
            "\tupper center\n",
            "\tcenter\n",
            "This will raise an exception in 3.3.\n",
            "  plt.legend(loc='top right', fontsize = \"medium\")\n"
          ]
        },
        {
          "output_type": "display_data",
          "data": {
            "text/plain": [
              "<Figure size 864x504 with 1 Axes>"
            ],
            "image/png": "[encoded data removed]"
          },
          "metadata": {
            "needs_background": "light"
          }
        }
      ]
    },
    {
      "cell_type": "markdown",
      "source": [
        "💡 Berdasarkan tipe pembayaran dapat dilihat bahwa presentase churn terjadi paling tinggi pada tipe pembayaran elektronik check (47.1%) dengan tipe kontrak month-to month, pada tipe kontrak one-year terjadi churn paling tinggi dengan tipe pembayaran credit card (27%), kemudian pada tipe kontrak two year, presentase churn paling tinggi terjadi pada tipe pembayarn dengan credit card (34.3%)"
      ],
      "metadata": {
        "id": "erH_hys9n9tv"
      }
    },
    {
      "cell_type": "markdown",
      "source": [
        "###**2. Cross Validation and Data Pre-processing**\n",
        "\n",
        "Data yang digunakan untuk melatih model kita sebut dengan `data train`, sedangkan data yang digunakan untuk mengevaluasi model disebut dengan `data test`.\n",
        "Untuk mengevaluasi model dan melihat kemampuannya memprediksi data baru, data kita bagi menjadi 2: data train dan data test. Proses ini kita sebut dengan `cross-validation`.\n",
        "\n",
        "Contoh menggunakan 80% dari seluruh data yang saya miliki menjadi data train dan sisanya akan digunakan sebagai data test."
      ],
      "metadata": {
        "id": "KaQBgVYWtV7Y"
      }
    },
    {
      "cell_type": "markdown",
      "source": [
        "Sebelum melAkukan cross-validation maka kita bisa melakukan pengecekan terhadap data set yng kita miliki, salah satunya dengan mengecek multicolinearity menggunkan fungsi `calc vif`, **nilai VIF > 10 menandakan bahwa terdapat multikorelasi antar kolom yang menyebabkan overfitting pada hasil training** sehingga kita bisa memutukan untuk remove kolom dengan nilai VIF > 10"
      ],
      "metadata": {
        "id": "LQdzoqSFpe4p"
      }
    },
    {
      "cell_type": "code",
      "source": [
        "from statsmodels.stats.outliers_influence import variance_inflation_factor\n",
        "\n",
        "def calc_vif(X):\n",
        "\n",
        "    # Calculating VIF\n",
        "    vif = pd.DataFrame()\n",
        "    vif[\"variables\"] = X.columns\n",
        "    vif[\"VIF\"] = [variance_inflation_factor(X.values, i) for i in range(X.shape[1])]\n",
        "\n",
        "    return(vif)\n",
        "\n",
        "dataset2 = dataset[['gender', 'SeniorCitizen', 'Partner', 'Dependents',\n",
        "       'tenure', 'PhoneService', 'PaperlessBilling','MonthlyCharges','TotalCharges']]\n",
        "\n",
        "calc_vif(dataset2)"
      ],
      "metadata": {
        "colab": {
          "base_uri": "https://localhost:8080/",
          "height": 332
        },
        "id": "Ga1remfa04ZB",
        "outputId": "9edd1a91-97da-490c-ae7d-21dcc9d1b7da"
      },
      "execution_count": 71,
      "outputs": [
        {
          "output_type": "execute_result",
          "data": {
            "text/plain": [
              "          variables        VIF\n",
              "0            gender   1.920698\n",
              "1     SeniorCitizen   1.327692\n",
              "2           Partner   2.815067\n",
              "3        Dependents   1.920081\n",
              "4            tenure  10.367632\n",
              "5      PhoneService   7.944790\n",
              "6  PaperlessBilling   2.813068\n",
              "7    MonthlyCharges  13.880781\n",
              "8      TotalCharges  12.331169"
            ],
            "text/html": [
              "\n",
              "  <div id=\"df-3a2db591-4034-4a84-a134-d33dc589d677\">\n",
              "    <div class=\"colab-df-container\">\n",
              "      <div>\n",
              "<style scoped>\n",
              "    .dataframe tbody tr th:only-of-type {\n",
              "        vertical-align: middle;\n",
              "    }\n",
              "\n",
              "    .dataframe tbody tr th {\n",
              "        vertical-align: top;\n",
              "    }\n",
              "\n",
              "    .dataframe thead th {\n",
              "        text-align: right;\n",
              "    }\n",
              "</style>\n",
              "<table border=\"1\" class=\"dataframe\">\n",
              "  <thead>\n",
              "    <tr style=\"text-align: right;\">\n",
              "      <th></th>\n",
              "      <th>variables</th>\n",
              "      <th>VIF</th>\n",
              "    </tr>\n",
              "  </thead>\n",
              "  <tbody>\n",
              "    <tr>\n",
              "      <th>0</th>\n",
              "      <td>gender</td>\n",
              "      <td>1.920698</td>\n",
              "    </tr>\n",
              "    <tr>\n",
              "      <th>1</th>\n",
              "      <td>SeniorCitizen</td>\n",
              "      <td>1.327692</td>\n",
              "    </tr>\n",
              "    <tr>\n",
              "      <th>2</th>\n",
              "      <td>Partner</td>\n",
              "      <td>2.815067</td>\n",
              "    </tr>\n",
              "    <tr>\n",
              "      <th>3</th>\n",
              "      <td>Dependents</td>\n",
              "      <td>1.920081</td>\n",
              "    </tr>\n",
              "    <tr>\n",
              "      <th>4</th>\n",
              "      <td>tenure</td>\n",
              "      <td>10.367632</td>\n",
              "    </tr>\n",
              "    <tr>\n",
              "      <th>5</th>\n",
              "      <td>PhoneService</td>\n",
              "      <td>7.944790</td>\n",
              "    </tr>\n",
              "    <tr>\n",
              "      <th>6</th>\n",
              "      <td>PaperlessBilling</td>\n",
              "      <td>2.813068</td>\n",
              "    </tr>\n",
              "    <tr>\n",
              "      <th>7</th>\n",
              "      <td>MonthlyCharges</td>\n",
              "      <td>13.880781</td>\n",
              "    </tr>\n",
              "    <tr>\n",
              "      <th>8</th>\n",
              "      <td>TotalCharges</td>\n",
              "      <td>12.331169</td>\n",
              "    </tr>\n",
              "  </tbody>\n",
              "</table>\n",
              "</div>\n",
              "      <button class=\"colab-df-convert\" onclick=\"convertToInteractive('df-3a2db591-4034-4a84-a134-d33dc589d677')\"\n",
              "              title=\"Convert this dataframe to an interactive table.\"\n",
              "              style=\"display:none;\">\n",
              "        \n",
              "  <svg xmlns=\"http://www.w3.org/2000/svg\" height=\"24px\"viewBox=\"0 0 24 24\"\n",
              "       width=\"24px\">\n",
              "    <path d=\"M0 0h24v24H0V0z\" fill=\"none\"/>\n",
              "    <path d=\"M18.56 5.44l.94 2.06.94-2.06 2.06-.94-2.06-.94-.94-2.06-.94 2.06-2.06.94zm-11 1L8.5 8.5l.94-2.06 2.06-.94-2.06-.94L8.5 2.5l-.94 2.06-2.06.94zm10 10l.94 2.06.94-2.06 2.06-.94-2.06-.94-.94-2.06-.94 2.06-2.06.94z\"/><path d=\"M17.41 7.96l-1.37-1.37c-.4-.4-.92-.59-1.43-.59-.52 0-1.04.2-1.43.59L10.3 9.45l-7.72 7.72c-.78.78-.78 2.05 0 2.83L4 21.41c.39.39.9.59 1.41.59.51 0 1.02-.2 1.41-.59l7.78-7.78 2.81-2.81c.8-.78.8-2.07 0-2.86zM5.41 20L4 18.59l7.72-7.72 1.47 1.35L5.41 20z\"/>\n",
              "  </svg>\n",
              "      </button>\n",
              "      \n",
              "  <style>\n",
              "    .colab-df-container {\n",
              "      display:flex;\n",
              "      flex-wrap:wrap;\n",
              "      gap: 12px;\n",
              "    }\n",
              "\n",
              "    .colab-df-convert {\n",
              "      background-color: #E8F0FE;\n",
              "      border: none;\n",
              "      border-radius: 50%;\n",
              "      cursor: pointer;\n",
              "      display: none;\n",
              "      fill: #1967D2;\n",
              "      height: 32px;\n",
              "      padding: 0 0 0 0;\n",
              "      width: 32px;\n",
              "    }\n",
              "\n",
              "    .colab-df-convert:hover {\n",
              "      background-color: #E2EBFA;\n",
              "      box-shadow: 0px 1px 2px rgba(60, 64, 67, 0.3), 0px 1px 3px 1px rgba(60, 64, 67, 0.15);\n",
              "      fill: #174EA6;\n",
              "    }\n",
              "\n",
              "    [theme=dark] .colab-df-convert {\n",
              "      background-color: #3B4455;\n",
              "      fill: #D2E3FC;\n",
              "    }\n",
              "\n",
              "    [theme=dark] .colab-df-convert:hover {\n",
              "      background-color: #434B5C;\n",
              "      box-shadow: 0px 1px 3px 1px rgba(0, 0, 0, 0.15);\n",
              "      filter: drop-shadow(0px 1px 2px rgba(0, 0, 0, 0.3));\n",
              "      fill: #FFFFFF;\n",
              "    }\n",
              "  </style>\n",
              "\n",
              "      <script>\n",
              "        const buttonEl =\n",
              "          document.querySelector('#df-3a2db591-4034-4a84-a134-d33dc589d677 button.colab-df-convert');\n",
              "        buttonEl.style.display =\n",
              "          google.colab.kernel.accessAllowed ? 'block' : 'none';\n",
              "\n",
              "        async function convertToInteractive(key) {\n",
              "          const element = document.querySelector('#df-3a2db591-4034-4a84-a134-d33dc589d677');\n",
              "          const dataTable =\n",
              "            await google.colab.kernel.invokeFunction('convertToInteractive',\n",
              "                                                     [key], {});\n",
              "          if (!dataTable) return;\n",
              "\n",
              "          const docLinkHtml = 'Like what you see? Visit the ' +\n",
              "            '<a target=\"_blank\" href=https://colab.research.google.com/notebooks/data_table.ipynb>data table notebook</a>'\n",
              "            + ' to learn more about interactive tables.';\n",
              "          element.innerHTML = '';\n",
              "          dataTable['output_type'] = 'display_data';\n",
              "          await google.colab.output.renderOutput(dataTable, element);\n",
              "          const docLink = document.createElement('div');\n",
              "          docLink.innerHTML = docLinkHtml;\n",
              "          element.appendChild(docLink);\n",
              "        }\n",
              "      </script>\n",
              "    </div>\n",
              "  </div>\n",
              "  "
            ]
          },
          "metadata": {},
          "execution_count": 71
        }
      ]
    },
    {
      "cell_type": "markdown",
      "source": [
        "Dapat kita lihat bahwa kolom `MonthlyCharges`, `tenure`, `TotalCharges` memiliki nilai VIF > 10, sehingga dalam cross validation kita bisa drop kolom tersebut"
      ],
      "metadata": {
        "id": "FNFI6XRBqydE"
      }
    },
    {
      "cell_type": "code",
      "source": [
        "# Split the data into features and target\n",
        "X = churn_data.drop(columns=[\"Churn\",'customerID','MultipleLines','InternetService','DeviceProtection',\n",
        "                             'TechSupport','StreamingTV','StreamingMovies','Contract','PaymentMethod',\n",
        "                             'OnlineSecurity','OnlineBackup','tenure','MonthlyCharges','TotalCharges']) #kita hanya menggunakan kolom dengan nilai unik <=2, yang sudah kita lakukan pelabelan pada proses EDA\n",
        "\n",
        "\n",
        "y = churn_data[\"Churn\"] #Menggunakan satu kolom target yaitu churn"
      ],
      "metadata": {
        "id": "GB1ecnA-gtCp"
      },
      "execution_count": 72,
      "outputs": []
    },
    {
      "cell_type": "code",
      "source": [
        "display(X)"
      ],
      "metadata": {
        "colab": {
          "base_uri": "https://localhost:8080/",
          "height": 424
        },
        "id": "2MLWOqbQj2VF",
        "outputId": "234972ce-39b4-41d8-a5cc-5574ac387da7"
      },
      "execution_count": 73,
      "outputs": [
        {
          "output_type": "display_data",
          "data": {
            "text/plain": [
              "      gender  SeniorCitizen  Partner  Dependents  PhoneService  \\\n",
              "0          0              0        1           0             0   \n",
              "1          1              0        0           0             1   \n",
              "2          1              0        0           0             1   \n",
              "3          1              0        0           0             0   \n",
              "4          0              0        0           0             1   \n",
              "...      ...            ...      ...         ...           ...   \n",
              "7038       1              0        1           1             1   \n",
              "7039       0              0        1           1             1   \n",
              "7040       0              0        1           1             0   \n",
              "7041       1              1        1           0             1   \n",
              "7042       1              0        0           0             1   \n",
              "\n",
              "      PaperlessBilling  \n",
              "0                    1  \n",
              "1                    0  \n",
              "2                    1  \n",
              "3                    0  \n",
              "4                    1  \n",
              "...                ...  \n",
              "7038                 1  \n",
              "7039                 1  \n",
              "7040                 1  \n",
              "7041                 1  \n",
              "7042                 1  \n",
              "\n",
              "[7043 rows x 6 columns]"
            ],
            "text/html": [
              "\n",
              "  <div id=\"df-88eaeb4f-2137-4ec9-80fa-3f6260503055\">\n",
              "    <div class=\"colab-df-container\">\n",
              "      <div>\n",
              "<style scoped>\n",
              "    .dataframe tbody tr th:only-of-type {\n",
              "        vertical-align: middle;\n",
              "    }\n",
              "\n",
              "    .dataframe tbody tr th {\n",
              "        vertical-align: top;\n",
              "    }\n",
              "\n",
              "    .dataframe thead th {\n",
              "        text-align: right;\n",
              "    }\n",
              "</style>\n",
              "<table border=\"1\" class=\"dataframe\">\n",
              "  <thead>\n",
              "    <tr style=\"text-align: right;\">\n",
              "      <th></th>\n",
              "      <th>gender</th>\n",
              "      <th>SeniorCitizen</th>\n",
              "      <th>Partner</th>\n",
              "      <th>Dependents</th>\n",
              "      <th>PhoneService</th>\n",
              "      <th>PaperlessBilling</th>\n",
              "    </tr>\n",
              "  </thead>\n",
              "  <tbody>\n",
              "    <tr>\n",
              "      <th>0</th>\n",
              "      <td>0</td>\n",
              "      <td>0</td>\n",
              "      <td>1</td>\n",
              "      <td>0</td>\n",
              "      <td>0</td>\n",
              "      <td>1</td>\n",
              "    </tr>\n",
              "    <tr>\n",
              "      <th>1</th>\n",
              "      <td>1</td>\n",
              "      <td>0</td>\n",
              "      <td>0</td>\n",
              "      <td>0</td>\n",
              "      <td>1</td>\n",
              "      <td>0</td>\n",
              "    </tr>\n",
              "    <tr>\n",
              "      <th>2</th>\n",
              "      <td>1</td>\n",
              "      <td>0</td>\n",
              "      <td>0</td>\n",
              "      <td>0</td>\n",
              "      <td>1</td>\n",
              "      <td>1</td>\n",
              "    </tr>\n",
              "    <tr>\n",
              "      <th>3</th>\n",
              "      <td>1</td>\n",
              "      <td>0</td>\n",
              "      <td>0</td>\n",
              "      <td>0</td>\n",
              "      <td>0</td>\n",
              "      <td>0</td>\n",
              "    </tr>\n",
              "    <tr>\n",
              "      <th>4</th>\n",
              "      <td>0</td>\n",
              "      <td>0</td>\n",
              "      <td>0</td>\n",
              "      <td>0</td>\n",
              "      <td>1</td>\n",
              "      <td>1</td>\n",
              "    </tr>\n",
              "    <tr>\n",
              "      <th>...</th>\n",
              "      <td>...</td>\n",
              "      <td>...</td>\n",
              "      <td>...</td>\n",
              "      <td>...</td>\n",
              "      <td>...</td>\n",
              "      <td>...</td>\n",
              "    </tr>\n",
              "    <tr>\n",
              "      <th>7038</th>\n",
              "      <td>1</td>\n",
              "      <td>0</td>\n",
              "      <td>1</td>\n",
              "      <td>1</td>\n",
              "      <td>1</td>\n",
              "      <td>1</td>\n",
              "    </tr>\n",
              "    <tr>\n",
              "      <th>7039</th>\n",
              "      <td>0</td>\n",
              "      <td>0</td>\n",
              "      <td>1</td>\n",
              "      <td>1</td>\n",
              "      <td>1</td>\n",
              "      <td>1</td>\n",
              "    </tr>\n",
              "    <tr>\n",
              "      <th>7040</th>\n",
              "      <td>0</td>\n",
              "      <td>0</td>\n",
              "      <td>1</td>\n",
              "      <td>1</td>\n",
              "      <td>0</td>\n",
              "      <td>1</td>\n",
              "    </tr>\n",
              "    <tr>\n",
              "      <th>7041</th>\n",
              "      <td>1</td>\n",
              "      <td>1</td>\n",
              "      <td>1</td>\n",
              "      <td>0</td>\n",
              "      <td>1</td>\n",
              "      <td>1</td>\n",
              "    </tr>\n",
              "    <tr>\n",
              "      <th>7042</th>\n",
              "      <td>1</td>\n",
              "      <td>0</td>\n",
              "      <td>0</td>\n",
              "      <td>0</td>\n",
              "      <td>1</td>\n",
              "      <td>1</td>\n",
              "    </tr>\n",
              "  </tbody>\n",
              "</table>\n",
              "<p>7043 rows × 6 columns</p>\n",
              "</div>\n",
              "      <button class=\"colab-df-convert\" onclick=\"convertToInteractive('df-88eaeb4f-2137-4ec9-80fa-3f6260503055')\"\n",
              "              title=\"Convert this dataframe to an interactive table.\"\n",
              "              style=\"display:none;\">\n",
              "        \n",
              "  <svg xmlns=\"http://www.w3.org/2000/svg\" height=\"24px\"viewBox=\"0 0 24 24\"\n",
              "       width=\"24px\">\n",
              "    <path d=\"M0 0h24v24H0V0z\" fill=\"none\"/>\n",
              "    <path d=\"M18.56 5.44l.94 2.06.94-2.06 2.06-.94-2.06-.94-.94-2.06-.94 2.06-2.06.94zm-11 1L8.5 8.5l.94-2.06 2.06-.94-2.06-.94L8.5 2.5l-.94 2.06-2.06.94zm10 10l.94 2.06.94-2.06 2.06-.94-2.06-.94-.94-2.06-.94 2.06-2.06.94z\"/><path d=\"M17.41 7.96l-1.37-1.37c-.4-.4-.92-.59-1.43-.59-.52 0-1.04.2-1.43.59L10.3 9.45l-7.72 7.72c-.78.78-.78 2.05 0 2.83L4 21.41c.39.39.9.59 1.41.59.51 0 1.02-.2 1.41-.59l7.78-7.78 2.81-2.81c.8-.78.8-2.07 0-2.86zM5.41 20L4 18.59l7.72-7.72 1.47 1.35L5.41 20z\"/>\n",
              "  </svg>\n",
              "      </button>\n",
              "      \n",
              "  <style>\n",
              "    .colab-df-container {\n",
              "      display:flex;\n",
              "      flex-wrap:wrap;\n",
              "      gap: 12px;\n",
              "    }\n",
              "\n",
              "    .colab-df-convert {\n",
              "      background-color: #E8F0FE;\n",
              "      border: none;\n",
              "      border-radius: 50%;\n",
              "      cursor: pointer;\n",
              "      display: none;\n",
              "      fill: #1967D2;\n",
              "      height: 32px;\n",
              "      padding: 0 0 0 0;\n",
              "      width: 32px;\n",
              "    }\n",
              "\n",
              "    .colab-df-convert:hover {\n",
              "      background-color: #E2EBFA;\n",
              "      box-shadow: 0px 1px 2px rgba(60, 64, 67, 0.3), 0px 1px 3px 1px rgba(60, 64, 67, 0.15);\n",
              "      fill: #174EA6;\n",
              "    }\n",
              "\n",
              "    [theme=dark] .colab-df-convert {\n",
              "      background-color: #3B4455;\n",
              "      fill: #D2E3FC;\n",
              "    }\n",
              "\n",
              "    [theme=dark] .colab-df-convert:hover {\n",
              "      background-color: #434B5C;\n",
              "      box-shadow: 0px 1px 3px 1px rgba(0, 0, 0, 0.15);\n",
              "      filter: drop-shadow(0px 1px 2px rgba(0, 0, 0, 0.3));\n",
              "      fill: #FFFFFF;\n",
              "    }\n",
              "  </style>\n",
              "\n",
              "      <script>\n",
              "        const buttonEl =\n",
              "          document.querySelector('#df-88eaeb4f-2137-4ec9-80fa-3f6260503055 button.colab-df-convert');\n",
              "        buttonEl.style.display =\n",
              "          google.colab.kernel.accessAllowed ? 'block' : 'none';\n",
              "\n",
              "        async function convertToInteractive(key) {\n",
              "          const element = document.querySelector('#df-88eaeb4f-2137-4ec9-80fa-3f6260503055');\n",
              "          const dataTable =\n",
              "            await google.colab.kernel.invokeFunction('convertToInteractive',\n",
              "                                                     [key], {});\n",
              "          if (!dataTable) return;\n",
              "\n",
              "          const docLinkHtml = 'Like what you see? Visit the ' +\n",
              "            '<a target=\"_blank\" href=https://colab.research.google.com/notebooks/data_table.ipynb>data table notebook</a>'\n",
              "            + ' to learn more about interactive tables.';\n",
              "          element.innerHTML = '';\n",
              "          dataTable['output_type'] = 'display_data';\n",
              "          await google.colab.output.renderOutput(dataTable, element);\n",
              "          const docLink = document.createElement('div');\n",
              "          docLink.innerHTML = docLinkHtml;\n",
              "          element.appendChild(docLink);\n",
              "        }\n",
              "      </script>\n",
              "    </div>\n",
              "  </div>\n",
              "  "
            ]
          },
          "metadata": {}
        }
      ]
    },
    {
      "cell_type": "markdown",
      "source": [
        "## **4. Build Model**\n",
        "\n",
        "Pada tahapan ini kita akan melakukan training dan testing pada dataset yang telah kita split menggunakan classifier models yaitu \n",
        "\n",
        "* Logistic regression\n",
        "* SVC\n",
        "* SVM\n",
        "* Random Forest\n",
        "* KNN\n",
        "* Decision Tree"
      ],
      "metadata": {
        "id": "8zMR03Nnrgh3"
      }
    },
    {
      "cell_type": "code",
      "source": [
        "import pandas as pd\n",
        "from sklearn import svm, naive_bayes, neighbors, ensemble, tree\n",
        "from sklearn.linear_model import LogisticRegression\n",
        "from sklearn.datasets import make_classification\n",
        "from sklearn.model_selection import train_test_split\n",
        "\n",
        "# Split the data into features and target\n",
        "X = churn_data.drop(columns=[\"Churn\",'customerID','MultipleLines','InternetService','DeviceProtection',\n",
        "                             'TechSupport','StreamingTV','StreamingMovies','Contract','PaymentMethod',\n",
        "                             'OnlineSecurity','OnlineBackup','tenure','MonthlyCharges','TotalCharges'])\n",
        "y = churn_data[\"Churn\"]\n",
        "\n",
        "\n",
        "# split the data into training and test sets\n",
        "X_train, X_test, y_train, y_test = train_test_split(X, y, test_size=0.2, random_state=0)\n",
        "\n",
        "# create a dictionary to store the classifiers\n",
        "classifiers = {\n",
        "    \"SVC\": svm.SVC(kernel='linear', C=1, random_state=0),\n",
        "    \"SVM\": svm.SVC(kernel='rbf', C=1, random_state=0),\n",
        "    \"GaussianNB\": naive_bayes.GaussianNB(),\n",
        "    \"RandomForest\": ensemble.RandomForestClassifier(n_estimators=100, random_state=0),\n",
        "    \"DecisionTree\": tree.DecisionTreeClassifier(random_state=0),\n",
        "    \"KNeighbors\": neighbors.KNeighborsClassifier(n_neighbors=5),\n",
        "    \"LogisticRegression\": LogisticRegression(random_state=0)\n",
        "}\n",
        "\n",
        "# create a dictionary to store the accuracy of each classifier\n",
        "accuracy = {}\n",
        "results = {}\n",
        "# train and test each classifier\n",
        "for name, clf in classifiers.items():\n",
        "    clf.fit(X_train, y_train)\n",
        "    acc = clf.score(X_test, y_test)\n",
        "    accuracy[name] = acc\n",
        "\n",
        "\n",
        "from sklearn.metrics import roc_auc_score, roc_curve\n",
        "from matplotlib import pyplot as plt\n",
        "\n",
        "\n",
        "df = pd.DataFrame(columns=['Model', 'AUC', 'ROC']) #membuat data frame untuk menyimpan nilai AUC,ROC\n",
        "\n",
        "# train and test each classifier\n",
        "for name, clf in classifiers.items():\n",
        "    clf.fit(X_train, y_train)\n",
        "    acc = clf.score(X_test, y_test)\n",
        "    y_pred = clf.predict(X_test)\n",
        "    roc = roc_auc_score(y_test, y_pred)\n",
        "    fpr, tpr, _ = roc_curve(y_test, y_pred)\n",
        "    auc = roc\n",
        "    results[name] = {\"Accuracy\": acc, \"ROC\": roc, \"AUC\": auc}\n",
        "\n",
        "\n",
        "# plot the ROC curve\n",
        "plt.plot(fpr, tpr, label='{} (AUC = {:.3f})'.format(name, auc))\n",
        "plt.legend(loc='lower right')\n",
        "    \n",
        "# plot the diagonal line representing a random classifier\n",
        "plt.plot([0, 1], [0, 1], 'k--')\n",
        "plt.xlim([0.0, 1.0])\n",
        "plt.ylim([0.0, 1.05])\n",
        "plt.xlabel('False Positive Rate')\n",
        "plt.ylabel('True Positive Rate')\n",
        "plt.title('ROC Curves for Different Classifiers')\n",
        "plt.show()\n"
      ],
      "metadata": {
        "colab": {
          "base_uri": "https://localhost:8080/",
          "height": 295
        },
        "id": "a6bzbD4eZJZt",
        "outputId": "74fdefa3-20d0-4f61-c186-2563bc8a2245"
      },
      "execution_count": 74,
      "outputs": [
        {
          "output_type": "display_data",
          "data": {
            "text/plain": [
              "<Figure size 432x288 with 1 Axes>"
            ],
            "image/png": "[encoded data removed]"
          },
          "metadata": {
            "needs_background": "light"
          }
        }
      ]
    },
    {
      "cell_type": "code",
      "source": [
        "# create a dataframe to display the results of each classifier\n",
        "df = pd.DataFrame(results).T\n",
        "df.reset_index(inplace=True)\n",
        "df.rename(columns={\"index\":\"Classifier\"}, inplace=True)\n",
        "print(df)"
      ],
      "metadata": {
        "id": "BQ3cjGj3a040",
        "colab": {
          "base_uri": "https://localhost:8080/"
        },
        "outputId": "f5218491-d299-4e41-a558-96136e06578a"
      },
      "execution_count": 75,
      "outputs": [
        {
          "output_type": "stream",
          "name": "stdout",
          "text": [
            "           Classifier  Accuracy       ROC       AUC\n",
            "0                 SVC  0.738822  0.500000  0.500000\n",
            "1                 SVM  0.746629  0.542176  0.542176\n",
            "2          GaussianNB  0.727466  0.566100  0.566100\n",
            "3        RandomForest  0.746629  0.543054  0.543054\n",
            "4        DecisionTree  0.746629  0.542176  0.542176\n",
            "5          KNeighbors  0.708304  0.535564  0.535564\n",
            "6  LogisticRegression  0.750177  0.549848  0.549848\n"
          ]
        }
      ]
    },
    {
      "cell_type": "markdown",
      "source": [
        "💡 Berdasarkan hsil pemodelan dapat kita lihat seluruh model yang kita gunakan menghasilkan nilai accuracy yang relatif mirip pada rentang 70-75%, akurasi yang tertinggi pada model legistic regression dengan tingkat 75%"
      ],
      "metadata": {
        "id": "Wtd3jId5tl-f"
      }
    },
    {
      "cell_type": "code",
      "source": [
        "from sklearn.neighbors import KNeighborsClassifier\n",
        "\n",
        "score_array = []\n",
        "for each in range(1,25):\n",
        "    knn_loop = KNeighborsClassifier(n_neighbors = each) #set K neighbor as 3\n",
        "    knn_loop.fit(X_train,y_train)\n",
        "    score_array.append(knn_loop.score(X_test,y_test))\n",
        "\n",
        "fig = plt.figure(figsize=(15, 7))\n",
        "plt.plot(range(1,25),score_array, color = 'green')\n",
        "\n",
        "\n",
        "plt.ylabel('Range\\n',horizontalalignment=\"center\",fontstyle = \"normal\", fontsize = \"large\", fontfamily = \"sans-serif\")\n",
        "plt.xlabel('Score\\n',horizontalalignment=\"center\",fontstyle = \"normal\", fontsize = \"large\", fontfamily = \"sans-serif\")\n",
        "plt.title('Optimal Number of K Neighbors \\n',horizontalalignment=\"center\", fontstyle = \"normal\", fontsize = \"22\", fontfamily = \"sans-serif\")\n",
        "#plt.legend(loc='top right', fontsize = \"medium\")\n",
        "plt.xticks(rotation=0, horizontalalignment=\"center\")\n",
        "plt.yticks(rotation=0, horizontalalignment=\"right\")\n",
        "\n",
        "\n",
        "plt.show()"
      ],
      "metadata": {
        "colab": {
          "base_uri": "https://localhost:8080/",
          "height": 506
        },
        "id": "bGbVRCy3vByk",
        "outputId": "9d95ee1e-a3ea-4a5a-f30a-5b5fdcc3a90d"
      },
      "execution_count": 76,
      "outputs": [
        {
          "output_type": "display_data",
          "data": {
            "text/plain": [
              "<Figure size 1080x504 with 1 Axes>"
            ],
            "image/png": "[encoded data removed]"
          },
          "metadata": {
            "needs_background": "light"
          }
        }
      ]
    },
    {
      "cell_type": "markdown",
      "source": [
        "Hasil plot KNN di atas menunjukkan nilai optimal KNN tertinggi yaitu 8"
      ],
      "metadata": {
        "id": "lT7g8NMew1iN"
      }
    },
    {
      "cell_type": "code",
      "source": [
        "#Identify optimal number of trees for Random Forest Model:\n",
        "\n",
        "from sklearn.ensemble import RandomForestClassifier\n",
        "\n",
        "score_array = []\n",
        "for each in range(1,100):\n",
        "    rf_loop = RandomForestClassifier(n_estimators = each, random_state = 1) \n",
        "    rf_loop.fit(X_train,y_train)\n",
        "    score_array.append(rf_loop.score(X_test,y_test))\n",
        " \n",
        "fig = plt.figure(figsize=(15, 7))\n",
        "plt.plot(range(1,100),score_array, color = '#ec838a')\n",
        "\n",
        "\n",
        "plt.ylabel('Range\\n',horizontalalignment=\"center\",fontstyle = \"normal\", fontsize = \"large\", fontfamily = \"sans-serif\")\n",
        "plt.xlabel('Score\\n',horizontalalignment=\"center\",fontstyle = \"normal\", fontsize = \"large\", fontfamily = \"sans-serif\")\n",
        "plt.title('Optimal Number of Trees for Random Forest Model \\n',horizontalalignment=\"center\", fontstyle = \"normal\", fontsize = \"22\", fontfamily = \"sans-serif\")\n",
        "#plt.legend(loc='top right', fontsize = \"medium\")\n",
        "plt.xticks(rotation=0, horizontalalignment=\"center\")\n",
        "plt.yticks(rotation=0, horizontalalignment=\"right\")\n",
        "\n",
        "\n",
        "plt.show()\n",
        " \n",
        " "
      ],
      "metadata": {
        "colab": {
          "base_uri": "https://localhost:8080/",
          "height": 506
        },
        "id": "BTdLfL8SxHKv",
        "outputId": "10d531c1-458c-44e3-f491-fb7918a22742"
      },
      "execution_count": 77,
      "outputs": [
        {
          "output_type": "display_data",
          "data": {
            "text/plain": [
              "<Figure size 1080x504 with 1 Axes>"
            ],
            "image/png": "[encoded data removed]"
          },
          "metadata": {
            "needs_background": "light"
          }
        }
      ]
    },
    {
      "cell_type": "markdown",
      "source": [
        "Hasil plot random forest di atas menunjukkan nilai optimal tertinggi yaitu 10"
      ],
      "metadata": {
        "id": "BVIM9T8gxBsA"
      }
    },
    {
      "cell_type": "markdown",
      "source": [
        "## **6.Training and Evaluation** \n",
        "\n",
        "Ftting model merupakan proses untuk menyesuaikan model machine learning dengan data training. Tujuan dari proses ini adalah untuk menemukan parameter model yang sesuai, sehingga model dapat dengan baik memprediksi output dari data yang belum dilihat sebelumnya.\n",
        "\n",
        "Model evaluation adalah proses untuk mengevaluasi kinerja dari sebuah model machine learning yang telah dibuat. Tujuan dari evaluasi model adalah untuk mengetahui seberapa baik model tersebut dapat memprediksi output yang sebenarnya dari data yang belum dilihat sebelumnya"
      ],
      "metadata": {
        "id": "MAZP3xyndf13"
      }
    },
    {
      "cell_type": "code",
      "source": [
        "#Logistic Regression\n",
        "\n",
        "from sklearn.metrics import precision_score\n",
        "from sklearn.metrics import recall_score\n",
        "from sklearn.metrics import f1_score #f1_score is a metric to evaluate the balance between precision and recall of a classification model\n",
        "from sklearn.metrics import fbeta_score\n",
        "\n",
        "# Fitting Logistic Regression to the Training set \n",
        "classifier = LogisticRegression(random_state = 0)\n",
        "classifier.fit(X_train, y_train)\n",
        "\n",
        "# Predicting the Test set results\n",
        "y_pred = classifier.predict(X_test)\n",
        "\n",
        "#Evaluate results\n",
        "\n",
        "acc = accuracy_score(y_test, y_pred )\n",
        "prec = precision_score(y_test, y_pred )\n",
        "rec = recall_score(y_test, y_pred )\n",
        "f1 = f1_score(y_test, y_pred )\n",
        "f2 = fbeta_score(y_test, y_pred, beta=2.0)\n",
        "\n",
        "results = pd.DataFrame([['Logistic Regression', acc, prec, rec, f1, f2]],\n",
        "               columns = ['Model', 'Accuracy', 'Precision', 'Recall', 'F1 Score', 'F2 Score'])"
      ],
      "metadata": {
        "id": "zxwQ3wQTyhGJ"
      },
      "execution_count": 78,
      "outputs": []
    },
    {
      "cell_type": "code",
      "source": [
        "# Fitting SVM (SVC class) to the Training set:\n",
        "from sklearn import svm\n",
        "from sklearn.svm import SVC\n",
        "\n",
        "svc = SVC()\n",
        "\n",
        "\n",
        "classifier = SVC(kernel = 'linear', random_state = 0)\n",
        "classifier.fit(X_train, y_train)\n",
        "\n",
        "# Predicting the Test set results \n",
        "y_pred = classifier.predict(X_test)\n",
        "\n",
        "#Evaluate results\n",
        "\n",
        "acc = accuracy_score(y_test, y_pred )\n",
        "prec = precision_score(y_test, y_pred )\n",
        "rec = recall_score(y_test, y_pred)\n",
        "f1 = f1_score(y_test, y_pred )\n",
        "f2 = fbeta_score(y_test, y_pred, beta=2.0)\n",
        "\n",
        "model_results = pd.DataFrame([['SVM (Linear)', acc, prec, rec, f1, f2]],\n",
        "               columns = ['Model', 'Accuracy', 'Precision', 'Recall', 'F1 Score', 'F2 Score'])\n",
        "\n",
        "results = results.append(model_results, ignore_index = True)"
      ],
      "metadata": {
        "colab": {
          "base_uri": "https://localhost:8080/"
        },
        "id": "O_PJkEj7zU1x",
        "outputId": "abd63438-0be6-422e-8a14-ddc9751038e3"
      },
      "execution_count": 79,
      "outputs": [
        {
          "output_type": "stream",
          "name": "stderr",
          "text": [
            "/usr/local/lib/python3.8/dist-packages/sklearn/metrics/_classification.py:1318: UndefinedMetricWarning: Precision is ill-defined and being set to 0.0 due to no predicted samples. Use `zero_division` parameter to control this behavior.\n",
            "  _warn_prf(average, modifier, msg_start, len(result))\n"
          ]
        }
      ]
    },
    {
      "cell_type": "code",
      "source": [
        "# Fitting KNN to the Training set:\n",
        "classifier = KNeighborsClassifier(n_neighbors = 10, metric = 'minkowski', p = 2) #implementation of KNeighborsClassifier, the default value of the \"metric\" parameter is \"minkowski\" and default value of p is 2. \n",
        "#This means that if you don't specify any value for the \"metric\" parameter, the KNN algorithm will use the Minkowski distance with p = 2 by default.\n",
        "classifier.fit(X_train, y_train)\n",
        "\n",
        "# Predicting the Test set results \n",
        "y_pred  = classifier.predict(X_test)\n",
        "\n",
        "#Evaluate results\n",
        "acc = accuracy_score(y_test, y_pred )\n",
        "prec = precision_score(y_test, y_pred )\n",
        "rec = recall_score(y_test, y_pred )\n",
        "f1 = f1_score(y_test, y_pred )\n",
        "f2 = fbeta_score(y_test, y_pred, beta=2.0)\n",
        "\n",
        "model_results = pd.DataFrame([['K-Nearest Neighbours', acc, prec, rec, f1, f2]],\n",
        "               columns = ['Model', 'Accuracy', 'Precision', 'Recall', 'F1 Score', 'F2 Score'])\n",
        "\n",
        "results = results.append(model_results, ignore_index = True)"
      ],
      "metadata": {
        "id": "GjmMcD4s0c64"
      },
      "execution_count": 80,
      "outputs": []
    },
    {
      "cell_type": "code",
      "source": [
        "# Kernel SVM\n",
        "\n",
        "# Fitting Kernel SVM to the Training set:\n",
        "\n",
        "classifier = SVC(kernel = 'rbf', random_state = 0)\n",
        "classifier.fit(X_train, y_train)\n",
        "\n",
        "# Predicting the Test set results \n",
        "y_pred = classifier.predict(X_test)\n",
        "\n",
        "#Evaluate results\n",
        "\n",
        "acc = accuracy_score(y_test, y_pred )\n",
        "prec = precision_score(y_test, y_pred )\n",
        "rec = recall_score(y_test, y_pred )\n",
        "f1 = f1_score(y_test, y_pred )\n",
        "f2 = fbeta_score(y_test, y_pred, beta=2.0)\n",
        "\n",
        "model_results = pd.DataFrame([['Kernel SVM', acc, prec, rec, f1, f2]],\n",
        "               columns = ['Model', 'Accuracy', 'Precision', 'Recall', 'F1 Score', 'F2 Score'])\n",
        "\n",
        "results = results.append(model_results, ignore_index = True)"
      ],
      "metadata": {
        "id": "O3nZCumc04eP"
      },
      "execution_count": 81,
      "outputs": []
    },
    {
      "cell_type": "code",
      "source": [
        "#Naive Byes\n",
        "\n",
        "# Fitting Naive Byes to the Training set:\n",
        "from sklearn.naive_bayes import GaussianNB\n",
        "    \n",
        "classifier = GaussianNB()\n",
        "classifier.fit(X_train, y_train)\n",
        "\n",
        "# Predicting the Test set results \n",
        "y_pred = classifier.predict(X_test)\n",
        "\n",
        "#Evaluate results\n",
        "acc = accuracy_score(y_test, y_pred )\n",
        "prec = precision_score(y_test, y_pred )\n",
        "rec = recall_score(y_test, y_pred )\n",
        "f1 = f1_score(y_test, y_pred )\n",
        "f2 = fbeta_score(y_test, y_pred, beta=2.0)\n",
        "\n",
        "model_results = pd.DataFrame([['Naive Byes', acc, prec, rec, f1, f2]],\n",
        "                columns = ['Model', 'Accuracy', 'Precision', 'Recall', 'F1 Score', 'F2 Score'])\n",
        "\n",
        "results = results.append(model_results, ignore_index = True)"
      ],
      "metadata": {
        "id": "0oTC_y_v0-a3"
      },
      "execution_count": 82,
      "outputs": []
    },
    {
      "cell_type": "code",
      "source": [
        "#Decision Tree\n",
        "\n",
        "from sklearn.tree import DecisionTreeClassifier\n",
        "\n",
        "# Fitting Decision Tree to the Training set:\n",
        "\n",
        "classifier = DecisionTreeClassifier(criterion = 'entropy', random_state = 0)\n",
        "classifier.fit(X_train, y_train)\n",
        "\n",
        "\n",
        "# Predicting the Test set results \n",
        "y_pred = classifier.predict(X_test)\n",
        "\n",
        "#Evaluate results\n",
        "acc = accuracy_score(y_test, y_pred )\n",
        "prec = precision_score(y_test, y_pred )\n",
        "rec = recall_score(y_test, y_pred )\n",
        "f1 = f1_score(y_test, y_pred )\n",
        "f2 = fbeta_score(y_test, y_pred, beta=2.0)\n",
        "\n",
        "model_results = pd.DataFrame([['Decision Tree', acc, prec, rec, f1, f2]],\n",
        "               columns = ['Model', 'Accuracy', 'Precision', 'Recall', 'F1 Score', 'F2 Score'])\n",
        "\n",
        "results = results.append(model_results, ignore_index = True)\n"
      ],
      "metadata": {
        "id": "BBn3XeYv1ipT"
      },
      "execution_count": 83,
      "outputs": []
    },
    {
      "cell_type": "code",
      "source": [
        "# Fitting Random Forest to the Training set:\n",
        "    \n",
        "classifier = RandomForestClassifier(n_estimators = 10, criterion = 'entropy', random_state = 0)\n",
        "classifier.fit(X_train, y_train)\n",
        "\n",
        "\n",
        "\n",
        "# Predicting the Test set results \n",
        "y_pred = classifier.predict(X_test)\n",
        "\n",
        "#Evaluate results\n",
        "\n",
        "from sklearn.metrics import confusion_matrix, accuracy_score, f1_score, precision_score, recall_score\n",
        "acc = accuracy_score(y_test, y_pred )\n",
        "prec = precision_score(y_test, y_pred )\n",
        "rec = recall_score(y_test, y_pred )\n",
        "f1 = f1_score(y_test, y_pred )\n",
        "f2 = fbeta_score(y_test, y_pred, beta=2.0)\n",
        "\n",
        "model_results = pd.DataFrame([['Random Forest', acc, prec, rec, f1, f2]],\n",
        "               columns = ['Model', 'Accuracy', 'Precision', 'Recall', 'F1 Score', 'F2 Score'])\n",
        "\n",
        "results = results.append(model_results, ignore_index = True)"
      ],
      "metadata": {
        "id": "Xe9LZv7E3LkW"
      },
      "execution_count": 84,
      "outputs": []
    },
    {
      "cell_type": "code",
      "source": [
        "results = results.sort_values([\"Precision\", \"Recall\", \"F2 Score\"], ascending = False)\n",
        "    \n",
        "\n",
        "print (results)"
      ],
      "metadata": {
        "colab": {
          "base_uri": "https://localhost:8080/"
        },
        "id": "6OImBhU83uwy",
        "outputId": "5145287b-37c0-4d4b-e0ab-bf4f8235e6a8"
      },
      "execution_count": 85,
      "outputs": [
        {
          "output_type": "stream",
          "name": "stdout",
          "text": [
            "                  Model  Accuracy  Precision    Recall  F1 Score  F2 Score\n",
            "0   Logistic Regression  0.750177   0.600000  0.130435  0.214286  0.154639\n",
            "6         Random Forest  0.747339   0.576923  0.122283  0.201794  0.145161\n",
            "3            Kernel SVM  0.746629   0.575342  0.114130  0.190476  0.135922\n",
            "5         Decision Tree  0.746629   0.575342  0.114130  0.190476  0.135922\n",
            "2  K-Nearest Neighbours  0.728886   0.463542  0.241848  0.317857  0.267428\n",
            "4            Naive Byes  0.727466   0.456522  0.228261  0.304348  0.253623\n",
            "1          SVM (Linear)  0.738822   0.000000  0.000000  0.000000  0.000000\n"
          ]
        }
      ]
    },
    {
      "cell_type": "markdown",
      "source": [
        "Dapat kita lihat setelah melakukan tarining model hasil akurasi yang didapatkan sama dengan akurasi dat testing\n",
        "Jika akurasi pada data training sama dengan akurasi pada data testing, itu bisa menjadi tanda bahwa model tersebut cukup baik dalam menangkap pola-pola dalam data training dan mampu untuk generalisasi dengan baik pada data baru. Hal ini dapat menunjukkan bahwa model tersebut tidak underfitting atau overfitting.\n",
        "Nilai akurasi paling tinggi didapatkan pada logistic regression model sebsar 75%"
      ],
      "metadata": {
        "id": "O1QqPfg8lo7D"
      }
    },
    {
      "cell_type": "markdown",
      "source": [
        "Karena akurasi pda logistic regression yang paling tinggi di antara model lainnya, maka selanjutnya kita akna melakukan model evaluation"
      ],
      "metadata": {
        "id": "dRpTHrq0nNOX"
      }
    },
    {
      "cell_type": "code",
      "source": [
        "classifier = LogisticRegression(random_state = 0, penalty = 'l2')\n",
        "classifier.fit(X_train, y_train)\n",
        "\n",
        "\n",
        "# Predict the Test set results\n",
        "\n",
        "y_pred = classifier.predict(X_test)\n",
        "\n",
        "\n",
        "#Evaluate Model Results on Test Set:\n",
        "\n",
        "acc = accuracy_score(y_test, y_pred )\n",
        "prec = precision_score(y_test, y_pred )\n",
        "rec = recall_score(y_test, y_pred )\n",
        "f1 = f1_score(y_test, y_pred )\n",
        "f2 = fbeta_score(y_test, y_pred, beta=2.0)\n",
        "\n",
        "results = pd.DataFrame([['Logistic Regression', acc, prec, rec, f1, f2]],\n",
        "               columns = ['Model', 'Accuracy', 'Precision', 'Recall', 'F1 Score', 'F2 Score'])\n",
        "\n",
        "print (results)"
      ],
      "metadata": {
        "colab": {
          "base_uri": "https://localhost:8080/"
        },
        "id": "pFpmVWbU-pRt",
        "outputId": "c59d0855-4563-4f31-ba50-618a9cef2b01"
      },
      "execution_count": 86,
      "outputs": [
        {
          "output_type": "stream",
          "name": "stdout",
          "text": [
            "                 Model  Accuracy  Precision    Recall  F1 Score  F2 Score\n",
            "0  Logistic Regression  0.750177        0.6  0.130435  0.214286  0.154639\n"
          ]
        }
      ]
    },
    {
      "cell_type": "code",
      "source": [
        "# Re-check k-Fold Cross Validation:\n",
        "# K-fold Cross Validation akan membagi data sebanyak k bagian, \n",
        "# dan setiap bagian akan punya kesempatan menjadi data test secara bergantian, sehingga semua data punya kesempatan menjadi data test maupun data train.\n",
        "\n",
        "accuracies = cross_val_score(estimator = classifier, X = X_train, y = y_train, cv = 10)\n",
        "print(\"Logistic Regression Classifier Accuracy: %0.2f (+/- %0.2f)\"  % (accuracies.mean(), accuracies.std() * 2))\n"
      ],
      "metadata": {
        "colab": {
          "base_uri": "https://localhost:8080/"
        },
        "id": "p2YD953E-2dH",
        "outputId": "17bcbfc1-89b1-4d68-a19f-5f6348fa4e44"
      },
      "execution_count": 87,
      "outputs": [
        {
          "output_type": "stream",
          "name": "stdout",
          "text": [
            "Logistic Regression Classifier Accuracy: 0.74 (+/- 0.01)\n"
          ]
        }
      ]
    },
    {
      "cell_type": "code",
      "source": [
        "from sklearn.metrics import confusion_matrix\n",
        "import matplotlib.pyplot as plt\n",
        "import seaborn as sns\n",
        "\n",
        "# Create a sample confusion matrix\n",
        "conf_matrix = confusion_matrix(y_test, y_pred)\n",
        "\n",
        "# Plot the confusion matrix using Seaborn's heatmap function\n",
        "sns.heatmap(conf_matrix, annot=True, cmap='Blues', fmt='d')\n",
        "\n",
        "# Add labels and title\n",
        "plt.xlabel('Predicted Label')\n",
        "plt.ylabel('True Label')\n",
        "plt.title('Confusion Matrix')\n",
        "\n",
        "# Display the confusion matrix\n",
        "plt.show()\n"
      ],
      "metadata": {
        "colab": {
          "base_uri": "https://localhost:8080/",
          "height": 295
        },
        "id": "cQ3rs6AC_AD5",
        "outputId": "bcab11c6-4892-46b6-b87e-7aa5c8d42db9"
      },
      "execution_count": 92,
      "outputs": [
        {
          "output_type": "display_data",
          "data": {
            "text/plain": [
              "<Figure size 432x288 with 2 Axes>"
            ],
            "image/png": "[encoded data removed]"
          },
          "metadata": {
            "needs_background": "light"
          }
        }
      ]
    },
    {
      "cell_type": "markdown",
      "source": [
        "Diinginkan True Positive tinggi dan False Positif rendah\n",
        "* TP : 1009\n",
        "* FP : 32\n",
        "* FN : 320\n",
        "* TN : 48"
      ],
      "metadata": {
        "id": "UGmiE_o7qFXi"
      }
    },
    {
      "cell_type": "code",
      "source": [
        "from sklearn.metrics import roc_curve, auc\n",
        "import matplotlib.pyplot as plt\n",
        "\n",
        "# Assume that you have a binary classification problem, and you have predicted probabilities for the positive class\n",
        "y_true = [0, 0, 1, 1]\n",
        "y_scores = [0.1, 0.4, 0.35, 0.8]\n",
        "\n",
        "# calculate the fpr, tpr and thresholds for the ROC curve\n",
        "fpr, tpr, thresholds = roc_curve(y_true, y_scores)\n",
        "\n",
        "# calculate the AUC\n",
        "roc_auc = auc(fpr, tpr)\n",
        "\n",
        "# Plot the ROC curve\n",
        "plt.plot(fpr, tpr, 'b', label = 'AUC = %0.2f' % roc_auc)\n",
        "plt.legend(loc = 'lower right')\n",
        "plt.plot([0, 1], [0, 1],'r--')\n",
        "plt.xlim([0, 1])\n",
        "plt.ylim([0, 1])\n",
        "plt.ylabel('True Positive Rate')\n",
        "plt.xlabel('False Positive Rate')\n",
        "plt.show()\n"
      ],
      "metadata": {
        "id": "psQxvEbNoi7q"
      },
      "execution_count": null,
      "outputs": []
    },
    {
      "cell_type": "code",
      "source": [
        "from sklearn.metrics import roc_curve, auc\n",
        "classifier.fit(X_train, y_train) \n",
        "probs = classifier.predict_proba(X_test) \n",
        "probs = probs[:, 1] \n",
        "classifier_roc_auc = accuracy_score(y_test, y_pred )\n",
        "\n",
        "\n",
        "rf_fpr, rf_tpr, rf_thresholds = roc_curve(y_test, classifier.predict_proba(X_test)[:,1])\n",
        "plt.figure(figsize=(14, 6))\n",
        "roc_auc = auc(fpr, tpr)\n",
        "\n",
        "\n",
        "# Plot Logistic Regression ROC\n",
        "plt.plot(rf_fpr, rf_tpr, label='Logistic Regression (area = %0.2f)' % classifier_roc_auc)\n",
        "# Plot Base Rate ROC\n",
        "plt.plot([0,1], [0,1],label='Base Rate' 'k--')\n",
        "\n",
        "plt.xlim([0.0, 1.0])\n",
        "plt.ylim([0.0, 1.05])\n",
        "\n",
        "\n",
        "\n",
        "plt.ylabel('True Positive Rate \\n',horizontalalignment=\"center\",fontstyle = \"normal\", fontsize = \"medium\", fontfamily = \"sans-serif\")\n",
        "plt.xlabel('\\nFalse Positive Rate \\n',horizontalalignment=\"center\",fontstyle = \"normal\", fontsize = \"medium\", fontfamily = \"sans-serif\")\n",
        "plt.title('ROC Graph \\n',horizontalalignment=\"center\", fontstyle = \"normal\", fontsize = \"22\", fontfamily = \"sans-serif\")\n",
        "plt.legend(loc=\"lower right\", fontsize = \"medium\")\n",
        "plt.xticks(rotation=0, horizontalalignment=\"center\")\n",
        "plt.yticks(rotation=0, horizontalalignment=\"right\")\n",
        "\n",
        "\n",
        "\n",
        "plt.show()"
      ],
      "metadata": {
        "colab": {
          "base_uri": "https://localhost:8080/",
          "height": 456
        },
        "id": "rL2z7ngoBHAD",
        "outputId": "05b297c9-6f6f-4e4c-b80a-ba81668fffdf"
      },
      "execution_count": 108,
      "outputs": [
        {
          "output_type": "display_data",
          "data": {
            "text/plain": [
              "<Figure size 1008x432 with 1 Axes>"
            ],
            "image/png": "[encoded data removed]"
          },
          "metadata": {
            "needs_background": "light"
          }
        }
      ]
    },
    {
      "cell_type": "markdown",
      "source": [
        "diinginkan ROC berbentuk kurva L terbalik dimana sudut tengah di kiri atas; tidak diinginkan terbentuk garis diagonal\n",
        "diinginkan AUC yang mendekati 1, tidak diinginkan mendekati 0.5 (terbantuk garis diagonal)"
      ],
      "metadata": {
        "id": "oIOtw7gPoAUi"
      }
    },
    {
      "cell_type": "code",
      "source": [
        "# Select Regularization Method\n",
        "\n",
        "from sklearn.model_selection import GridSearchCV\n",
        "import time #time module is used in this code to measure how long it takes to perform the grid search\n",
        "penalty = ['l2'] #logistic regression classifier will use L2 regularization. L2 regularization adds a term to the loss function that is the sum of the squares of the weights.\n",
        "\n",
        "# Create regularization hyperparameter space\n",
        "C = [ 0.0001, 0.001, 0.01, 0.02, 0.05]\n",
        "\n",
        "# Combine Parameters\n",
        "parameters = dict(C=C, penalty=penalty)\n",
        "\n",
        "lr_classifier = GridSearchCV(estimator = classifier,\n",
        "                           param_grid = parameters,\n",
        "                           scoring = \"balanced_accuracy\",\n",
        "                           cv = 10,\n",
        "                           n_jobs = -1)\n",
        "t0 = time.time()\n",
        "lr_classifier  = lr_classifier .fit(X_train, y_train)\n",
        "t1 = time.time()\n",
        "print(\"Took %0.2f seconds\" % (t1 - t0))\n",
        "\n",
        "lr_best_accuracy = lr_classifier.best_score_\n",
        "lr_best_parameters = lr_classifier.best_params_\n",
        "lr_best_accuracy, lr_best_parameters\n"
      ],
      "metadata": {
        "colab": {
          "base_uri": "https://localhost:8080/"
        },
        "id": "s53o0V2_Cifa",
        "outputId": "853b85d3-d10a-4d92-eacb-db50f65776ba"
      },
      "execution_count": 95,
      "outputs": [
        {
          "output_type": "stream",
          "name": "stdout",
          "text": [
            "Took 5.39 seconds\n"
          ]
        },
        {
          "output_type": "execute_result",
          "data": {
            "text/plain": [
              "(0.5383636341875885, {'C': 0.05, 'penalty': 'l2'})"
            ]
          },
          "metadata": {},
          "execution_count": 95
        }
      ]
    },
    {
      "cell_type": "markdown",
      "source": [
        "## **7. Model Tuning**"
      ],
      "metadata": {
        "id": "9m9h9KvCh1IX"
      }
    },
    {
      "cell_type": "code",
      "source": [
        "#Step 18.3:Final Hyper parameter tuning and selection --------------------------------------\n",
        "\n",
        "\n",
        "lr_classifier = LogisticRegression(random_state = 0, penalty = 'l2')\n",
        "lr_classifier.fit(X_train, y_train)\n",
        "\n",
        "\n",
        "# Predict the Test set results\n",
        "\n",
        "y_pred = lr_classifier.predict(X_test)\n",
        "\n",
        "#probability score\n",
        "y_pred_probs = lr_classifier.predict_proba(X_test)\n",
        "y_pred_probs  = y_pred_probs [:, 1]"
      ],
      "metadata": {
        "id": "Rnc7BUaAD1uV"
      },
      "execution_count": 96,
      "outputs": []
    },
    {
      "cell_type": "code",
      "source": [
        "\n",
        "#Revalidate final results with Confusion Matrix:\n",
        "\n",
        "cm = confusion_matrix(y_test, y_pred) \n",
        "print (cm)"
      ],
      "metadata": {
        "colab": {
          "base_uri": "https://localhost:8080/"
        },
        "id": "d4hl_8TuD9XE",
        "outputId": "cee92adc-061f-4d95-ec7d-8f85030f822a"
      },
      "execution_count": 97,
      "outputs": [
        {
          "output_type": "stream",
          "name": "stdout",
          "text": [
            "[[1009   32]\n",
            " [ 320   48]]\n"
          ]
        }
      ]
    },
    {
      "cell_type": "code",
      "source": [
        "# Format Final Results:\n",
        "train_identity = churn_data['customerID']\n",
        "\n",
        "final_results = pd.concat([train_identity, y_test], axis = 1).dropna()\n",
        "\n",
        "final_results['predictions'] = y_pred \n",
        "\n",
        "#propensity to convert is a term used to describe the likelihood or probability that a customer will churn (stop doing business with a company) in the future\n",
        "\n",
        "final_results[\"propensity_to_convert(%)\"] = y_pred_probs \n",
        "\n",
        "final_results[\"propensity_to_convert(%)\"] = final_results[\"propensity_to_convert(%)\"]*100\n",
        "\n",
        "final_results[\"propensity_to_convert(%)\"]=final_results[\"propensity_to_convert(%)\"].round(2)\n",
        "\n",
        "final_results = final_results[['customerID', 'Churn', 'predictions', 'propensity_to_convert(%)']]\n",
        "\n",
        "final_results ['Ranking'] = pd.qcut(final_results['propensity_to_convert(%)'].rank(method = 'first'),10,labels=range(10,0,-1))\n",
        "\n",
        "print (final_results)"
      ],
      "metadata": {
        "colab": {
          "base_uri": "https://localhost:8080/"
        },
        "id": "_JhKbEgZEJFF",
        "outputId": "93bd685b-fbc0-42ea-c7a1-c3edc404f9b7"
      },
      "execution_count": 103,
      "outputs": [
        {
          "output_type": "stream",
          "name": "stdout",
          "text": [
            "      customerID  Churn  predictions  propensity_to_convert(%) Ranking\n",
            "1     5575-GNVDE    0.0            0                     21.84       6\n",
            "6     1452-KIOVK    0.0            0                     38.26       4\n",
            "8     7892-POOKP    1.0            0                     39.57       3\n",
            "9     6388-TABGU    0.0            0                     20.91       7\n",
            "12    8091-TTVAX    0.0            0                     27.40       5\n",
            "...          ...    ...          ...                       ...     ...\n",
            "7031  3605-JISKB    0.0            0                     39.74       1\n",
            "7034  0639-TSIQW    1.0            0                      8.98       9\n",
            "7039  2234-XADUH    0.0            1                     54.74       1\n",
            "7041  8361-LTMKD    1.0            0                     20.91       6\n",
            "7042  3186-AJIEK    0.0            0                     38.26       3\n",
            "\n",
            "[1409 rows x 5 columns]\n"
          ]
        }
      ]
    },
    {
      "cell_type": "markdown",
      "source": [
        "##  **8. Final Model**"
      ],
      "metadata": {
        "id": "arhoVe0ojbvv"
      }
    },
    {
      "cell_type": "code",
      "source": [
        "#Save the model-------------------------------------------------------------------\n",
        "import joblib\n",
        "\n",
        "filename = 'final_model.model'\n",
        "i = [lr_classifier]\n",
        "joblib.dump(i,filename)"
      ],
      "metadata": {
        "colab": {
          "base_uri": "https://localhost:8080/"
        },
        "id": "RXdHdgn8FxPl",
        "outputId": "e46debfc-a3b1-4d49-83a4-b2115cef6d83"
      },
      "execution_count": 107,
      "outputs": [
        {
          "output_type": "execute_result",
          "data": {
            "text/plain": [
              "['final_model.model']"
            ]
          },
          "metadata": {},
          "execution_count": 107
        }
      ]
    }
  ]
}